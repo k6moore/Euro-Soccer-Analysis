{
 "cells": [
  {
   "cell_type": "markdown",
   "metadata": {},
   "source": [
    "# What European Soccer Team Attributes Lead To More Wins?\n",
    "\n",
    "## Table of Contents\n",
    "<ul>\n",
    "<li><a href=\"#intro\">Introduction</a></li>\n",
    "<li><a href=\"#wrangling\">Data Wrangling</a></li>\n",
    "<li><a href=\"#eda\">Exploratory Data Analysis</a></li>  \n",
    "<li><a href=\"#conclusions\">Conclusions</a></li>\n",
    "</ul>"
   ]
  },
  {
   "cell_type": "markdown",
   "metadata": {},
   "source": [
    "<a id='intro'></a>\n",
    "## Introduction\n",
    "\n",
    "In this project, I will use the Kaggle \"European Soccer Database\" which can be found at https://www.kaggle.com/hugomathien/soccer. The \"European Soccer Database\" consists on 7 tables: Country, League, Match, Player, Player_Attributes, Team and Team_Attributes.\n",
    "<br/>\n",
    "\n",
    "The **Match** table contains data over 8 soccer seasons and stores: the date a match was played, the teams that played the match, the number of goals each team made, the players in the match and other match statistics.\n",
    "\n",
    "\n",
    "The **Player** table contains players name and vital statistics such as weight, height and birthdate.\n",
    "\n",
    "\n",
    "The **Player_Attributes** table contains the players statistics such as their overall rating, potential, prefered foot etc.\n",
    "\n",
    "\n",
    "The **Team_Attributes** table records the team's attributes such as build up play, chance creation and defence scores at a given time.\n",
    "\n",
    "\n",
    "The **Team** table stores team id and team names that are used for referencing.\n",
    "\n",
    "\n",
    "The **Country** table stores the country id and country name used for referencing.\n",
    "\n",
    "\n",
    "The **League** tables stores league id, country id and league name used for referencing.\n",
    "\n",
    "<br/>\n",
    "\n",
    "\n",
    "I will be analyzing a dataset derived from the \"European Soccer Database\". The dataset ecompasses data from the Match, Team, Team_Attributes, Country and League tables. The Dataset was derived usng the SQL query below:\n",
    "\n",
    "~~~~sql\n",
    "CREATE TABLE team_match_data AS \n",
    "WITH team_data AS (\n",
    "SELECT * \n",
    "FROM Team_Attributes ta\n",
    "JOIN Team t\n",
    "ON ta.team_api_id = t.team_api_id),\n",
    "\n",
    "\n",
    "\tteamdate_data AS (\n",
    "SELECT *,\n",
    "lead(team_api_id) OVER (PARTITION BY team_api_id ORDER BY \"date\") AS lead_team_api_id,\n",
    "lead(\"date\",1,\"2016-05-25 00:00:00\") OVER (PARTITION BY team_api_id ORDER BY \"date\") AS end_date\n",
    "FROM team_data)\n",
    "\n",
    "\n",
    "SELECT m.match_api_id, \n",
    "m.\"date\" match_dt,\n",
    "m.country_id,\n",
    "c.name country_name,\n",
    "m.league_id,\n",
    "l.name league_name,\n",
    "m.season,\n",
    "m.home_team_api_id,\n",
    "m.away_team_api_id,\n",
    "td.team_api_id,\n",
    "td.team_long_name,\n",
    "td.team_short_name,\n",
    "m.home_team_goal,\n",
    "m.away_team_goal,\n",
    "td.\"date\" t_attr_start_dt,\n",
    "td.end_date t_attr_end_dt,\n",
    "td.buildUpPlaySpeed bu_play_speed,\n",
    "td.buildUpPlaySpeedClass bu_play_speed_class,\n",
    "td.buildUpPlayDribbling bu_play_dribbling,\n",
    "td.buildUpPlayDribblingClass bu_play_dribbling_class,\n",
    "td.buildUpPlayPassing bu_play_passing,\n",
    "td.buildUpPlayPassingClass bu_play_passing_class,\n",
    "td.buildUpPlayPositioningClass bu_play_positioning_class,\n",
    "td.chanceCreationPassing cc_passing,\n",
    "td.chanceCreationPassingClass cc_passing_class,\n",
    "td.chanceCreationCrossing cc_crossing,\n",
    "td.chanceCreationCrossingClass cc_crossing_class,\n",
    "td.chanceCreationShooting cc_shooting,\n",
    "td.chanceCreationShootingClass cc_shooting_class,\n",
    "td.chanceCreationPositioningClass cc_positioning_class,\n",
    "td.defencePressure defence_pressure,\n",
    "td.defencePressureClass defence_pressure_class,\n",
    "td.defenceAggression defence_aggression,\n",
    "td.defenceAggressionClass defence_agression_class,\n",
    "td.defenceTeamWidth defence_team_width,\n",
    "td.defenceTeamWidthClass defence_team_width_class,\n",
    "td.defenceDefenderLineClass defence_line_class\n",
    "FROM Match m\n",
    "JOIN teamdate_data td\n",
    "ON td.team_api_id = m.home_team_api_id\n",
    "OR td.team_api_id = m.away_team_api_id\n",
    "JOIN League l\n",
    "ON l.id = m.league_id\n",
    "JOIN Country c\n",
    "ON c.id = m.country_id\n",
    "WHERE m.\"date\"  BETWEEN td.\"date\" AND td.end_date\n",
    "ORDER BY td.team_api_id, td.end_date DESC;\n",
    "~~~~\n",
    "<br/>\n",
    "\n",
    "### Questions\n",
    "I will be focusing on team goals and how their attributes contributed to these goals.\n",
    "\n",
    "1. Which Teams won the most matches?\n",
    "2. What team attributes contribute to the most wins?"
   ]
  },
  {
   "cell_type": "code",
   "execution_count": 1,
   "metadata": {},
   "outputs": [],
   "source": [
    "import pandas as pd\n",
    "import numpy as np\n",
    "import matplotlib.pyplot as plt\n",
    "import seaborn as sns\n",
    "%matplotlib inline"
   ]
  },
  {
   "cell_type": "markdown",
   "metadata": {},
   "source": [
    "<a id='wrangling'></a>\n",
    "## Data Wrangling\n",
    "\n",
    "\n",
    "\n",
    "### General Properties"
   ]
  },
  {
   "cell_type": "code",
   "execution_count": 2,
   "metadata": {
    "scrolled": true
   },
   "outputs": [
    {
     "data": {
      "text/html": [
       "<div>\n",
       "<style scoped>\n",
       "    .dataframe tbody tr th:only-of-type {\n",
       "        vertical-align: middle;\n",
       "    }\n",
       "\n",
       "    .dataframe tbody tr th {\n",
       "        vertical-align: top;\n",
       "    }\n",
       "\n",
       "    .dataframe thead th {\n",
       "        text-align: right;\n",
       "    }\n",
       "</style>\n",
       "<table border=\"1\" class=\"dataframe\">\n",
       "  <thead>\n",
       "    <tr style=\"text-align: right;\">\n",
       "      <th></th>\n",
       "      <th>match_api_id</th>\n",
       "      <th>match_dt</th>\n",
       "      <th>country_id</th>\n",
       "      <th>country_name</th>\n",
       "      <th>league_id</th>\n",
       "      <th>league_name</th>\n",
       "      <th>season</th>\n",
       "      <th>home_team_api_id</th>\n",
       "      <th>away_team_api_id</th>\n",
       "      <th>team_api_id</th>\n",
       "      <th>...</th>\n",
       "      <th>cc_shooting</th>\n",
       "      <th>cc_shooting_class</th>\n",
       "      <th>cc_positioning_class</th>\n",
       "      <th>defence_pressure</th>\n",
       "      <th>defence_pressure_class</th>\n",
       "      <th>defence_aggression</th>\n",
       "      <th>defence_agression_class</th>\n",
       "      <th>defence_team_width</th>\n",
       "      <th>defence_team_width_class</th>\n",
       "      <th>defence_line_class</th>\n",
       "    </tr>\n",
       "  </thead>\n",
       "  <tbody>\n",
       "    <tr>\n",
       "      <th>0</th>\n",
       "      <td>1994692</td>\n",
       "      <td>2015-09-26 00:00:00</td>\n",
       "      <td>15722</td>\n",
       "      <td>Poland</td>\n",
       "      <td>15722</td>\n",
       "      <td>Poland Ekstraklasa</td>\n",
       "      <td>2015/2016</td>\n",
       "      <td>2186</td>\n",
       "      <td>1601</td>\n",
       "      <td>1601</td>\n",
       "      <td>...</td>\n",
       "      <td>50</td>\n",
       "      <td>Normal</td>\n",
       "      <td>Organised</td>\n",
       "      <td>43</td>\n",
       "      <td>Medium</td>\n",
       "      <td>44</td>\n",
       "      <td>Press</td>\n",
       "      <td>49</td>\n",
       "      <td>Normal</td>\n",
       "      <td>Cover</td>\n",
       "    </tr>\n",
       "    <tr>\n",
       "      <th>1</th>\n",
       "      <td>1994701</td>\n",
       "      <td>2015-10-02 00:00:00</td>\n",
       "      <td>15722</td>\n",
       "      <td>Poland</td>\n",
       "      <td>15722</td>\n",
       "      <td>Poland Ekstraklasa</td>\n",
       "      <td>2015/2016</td>\n",
       "      <td>1601</td>\n",
       "      <td>8023</td>\n",
       "      <td>1601</td>\n",
       "      <td>...</td>\n",
       "      <td>50</td>\n",
       "      <td>Normal</td>\n",
       "      <td>Organised</td>\n",
       "      <td>43</td>\n",
       "      <td>Medium</td>\n",
       "      <td>44</td>\n",
       "      <td>Press</td>\n",
       "      <td>49</td>\n",
       "      <td>Normal</td>\n",
       "      <td>Cover</td>\n",
       "    </tr>\n",
       "    <tr>\n",
       "      <th>2</th>\n",
       "      <td>1994710</td>\n",
       "      <td>2015-10-17 00:00:00</td>\n",
       "      <td>15722</td>\n",
       "      <td>Poland</td>\n",
       "      <td>15722</td>\n",
       "      <td>Poland Ekstraklasa</td>\n",
       "      <td>2015/2016</td>\n",
       "      <td>2182</td>\n",
       "      <td>1601</td>\n",
       "      <td>1601</td>\n",
       "      <td>...</td>\n",
       "      <td>50</td>\n",
       "      <td>Normal</td>\n",
       "      <td>Organised</td>\n",
       "      <td>43</td>\n",
       "      <td>Medium</td>\n",
       "      <td>44</td>\n",
       "      <td>Press</td>\n",
       "      <td>49</td>\n",
       "      <td>Normal</td>\n",
       "      <td>Cover</td>\n",
       "    </tr>\n",
       "    <tr>\n",
       "      <th>3</th>\n",
       "      <td>1994716</td>\n",
       "      <td>2015-10-23 00:00:00</td>\n",
       "      <td>15722</td>\n",
       "      <td>Poland</td>\n",
       "      <td>15722</td>\n",
       "      <td>Poland Ekstraklasa</td>\n",
       "      <td>2015/2016</td>\n",
       "      <td>1601</td>\n",
       "      <td>8025</td>\n",
       "      <td>1601</td>\n",
       "      <td>...</td>\n",
       "      <td>50</td>\n",
       "      <td>Normal</td>\n",
       "      <td>Organised</td>\n",
       "      <td>43</td>\n",
       "      <td>Medium</td>\n",
       "      <td>44</td>\n",
       "      <td>Press</td>\n",
       "      <td>49</td>\n",
       "      <td>Normal</td>\n",
       "      <td>Cover</td>\n",
       "    </tr>\n",
       "    <tr>\n",
       "      <th>4</th>\n",
       "      <td>1994723</td>\n",
       "      <td>2015-10-30 00:00:00</td>\n",
       "      <td>15722</td>\n",
       "      <td>Poland</td>\n",
       "      <td>15722</td>\n",
       "      <td>Poland Ekstraklasa</td>\n",
       "      <td>2015/2016</td>\n",
       "      <td>10265</td>\n",
       "      <td>1601</td>\n",
       "      <td>1601</td>\n",
       "      <td>...</td>\n",
       "      <td>50</td>\n",
       "      <td>Normal</td>\n",
       "      <td>Organised</td>\n",
       "      <td>43</td>\n",
       "      <td>Medium</td>\n",
       "      <td>44</td>\n",
       "      <td>Press</td>\n",
       "      <td>49</td>\n",
       "      <td>Normal</td>\n",
       "      <td>Cover</td>\n",
       "    </tr>\n",
       "  </tbody>\n",
       "</table>\n",
       "<p>5 rows × 37 columns</p>\n",
       "</div>"
      ],
      "text/plain": [
       "   match_api_id             match_dt  country_id country_name  league_id  \\\n",
       "0       1994692  2015-09-26 00:00:00       15722       Poland      15722   \n",
       "1       1994701  2015-10-02 00:00:00       15722       Poland      15722   \n",
       "2       1994710  2015-10-17 00:00:00       15722       Poland      15722   \n",
       "3       1994716  2015-10-23 00:00:00       15722       Poland      15722   \n",
       "4       1994723  2015-10-30 00:00:00       15722       Poland      15722   \n",
       "\n",
       "          league_name     season  home_team_api_id  away_team_api_id  \\\n",
       "0  Poland Ekstraklasa  2015/2016              2186              1601   \n",
       "1  Poland Ekstraklasa  2015/2016              1601              8023   \n",
       "2  Poland Ekstraklasa  2015/2016              2182              1601   \n",
       "3  Poland Ekstraklasa  2015/2016              1601              8025   \n",
       "4  Poland Ekstraklasa  2015/2016             10265              1601   \n",
       "\n",
       "   team_api_id        ...         cc_shooting cc_shooting_class  \\\n",
       "0         1601        ...                  50            Normal   \n",
       "1         1601        ...                  50            Normal   \n",
       "2         1601        ...                  50            Normal   \n",
       "3         1601        ...                  50            Normal   \n",
       "4         1601        ...                  50            Normal   \n",
       "\n",
       "   cc_positioning_class  defence_pressure defence_pressure_class  \\\n",
       "0             Organised                43                 Medium   \n",
       "1             Organised                43                 Medium   \n",
       "2             Organised                43                 Medium   \n",
       "3             Organised                43                 Medium   \n",
       "4             Organised                43                 Medium   \n",
       "\n",
       "  defence_aggression  defence_agression_class defence_team_width  \\\n",
       "0                 44                    Press                 49   \n",
       "1                 44                    Press                 49   \n",
       "2                 44                    Press                 49   \n",
       "3                 44                    Press                 49   \n",
       "4                 44                    Press                 49   \n",
       "\n",
       "   defence_team_width_class defence_line_class  \n",
       "0                    Normal              Cover  \n",
       "1                    Normal              Cover  \n",
       "2                    Normal              Cover  \n",
       "3                    Normal              Cover  \n",
       "4                    Normal              Cover  \n",
       "\n",
       "[5 rows x 37 columns]"
      ]
     },
     "execution_count": 2,
     "metadata": {},
     "output_type": "execute_result"
    }
   ],
   "source": [
    "df = pd.read_csv('team_match_data.csv')\n",
    "df.head()"
   ]
  },
  {
   "cell_type": "markdown",
   "metadata": {},
   "source": [
    "Imported the **team_match_data** csv file into a data frame and viewed the first 5 rows"
   ]
  },
  {
   "cell_type": "code",
   "execution_count": 3,
   "metadata": {},
   "outputs": [
    {
     "data": {
      "text/plain": [
       "(39882, 37)"
      ]
     },
     "execution_count": 3,
     "metadata": {},
     "output_type": "execute_result"
    }
   ],
   "source": [
    "df.shape"
   ]
  },
  {
   "cell_type": "markdown",
   "metadata": {},
   "source": [
    "There are **39,882 rows** and **37 columns** in the data frame"
   ]
  },
  {
   "cell_type": "code",
   "execution_count": 4,
   "metadata": {},
   "outputs": [
    {
     "data": {
      "text/html": [
       "<div>\n",
       "<style scoped>\n",
       "    .dataframe tbody tr th:only-of-type {\n",
       "        vertical-align: middle;\n",
       "    }\n",
       "\n",
       "    .dataframe tbody tr th {\n",
       "        vertical-align: top;\n",
       "    }\n",
       "\n",
       "    .dataframe thead th {\n",
       "        text-align: right;\n",
       "    }\n",
       "</style>\n",
       "<table border=\"1\" class=\"dataframe\">\n",
       "  <thead>\n",
       "    <tr style=\"text-align: right;\">\n",
       "      <th></th>\n",
       "      <th>match_api_id</th>\n",
       "      <th>country_id</th>\n",
       "      <th>league_id</th>\n",
       "      <th>home_team_api_id</th>\n",
       "      <th>away_team_api_id</th>\n",
       "      <th>team_api_id</th>\n",
       "      <th>home_team_goal</th>\n",
       "      <th>away_team_goal</th>\n",
       "      <th>bu_play_speed</th>\n",
       "      <th>bu_play_dribbling</th>\n",
       "      <th>bu_play_passing</th>\n",
       "      <th>cc_passing</th>\n",
       "      <th>cc_crossing</th>\n",
       "      <th>cc_shooting</th>\n",
       "      <th>defence_pressure</th>\n",
       "      <th>defence_aggression</th>\n",
       "      <th>defence_team_width</th>\n",
       "    </tr>\n",
       "  </thead>\n",
       "  <tbody>\n",
       "    <tr>\n",
       "      <th>count</th>\n",
       "      <td>3.988200e+04</td>\n",
       "      <td>39882.000000</td>\n",
       "      <td>39882.000000</td>\n",
       "      <td>39882.000000</td>\n",
       "      <td>39882.000000</td>\n",
       "      <td>39882.000000</td>\n",
       "      <td>39882.000000</td>\n",
       "      <td>39882.000000</td>\n",
       "      <td>39882.000000</td>\n",
       "      <td>11749.000000</td>\n",
       "      <td>39882.000000</td>\n",
       "      <td>39882.000000</td>\n",
       "      <td>39882.000000</td>\n",
       "      <td>39882.000000</td>\n",
       "      <td>39882.000000</td>\n",
       "      <td>39882.000000</td>\n",
       "      <td>39882.000000</td>\n",
       "    </tr>\n",
       "    <tr>\n",
       "      <th>mean</th>\n",
       "      <td>1.360436e+06</td>\n",
       "      <td>11763.067148</td>\n",
       "      <td>11763.067148</td>\n",
       "      <td>9956.776992</td>\n",
       "      <td>9954.216087</td>\n",
       "      <td>9665.847425</td>\n",
       "      <td>1.554787</td>\n",
       "      <td>1.173888</td>\n",
       "      <td>52.412818</td>\n",
       "      <td>49.088433</td>\n",
       "      <td>47.927210</td>\n",
       "      <td>52.411664</td>\n",
       "      <td>54.034627</td>\n",
       "      <td>54.270473</td>\n",
       "      <td>46.466978</td>\n",
       "      <td>49.474625</td>\n",
       "      <td>52.337596</td>\n",
       "    </tr>\n",
       "    <tr>\n",
       "      <th>std</th>\n",
       "      <td>4.222426e+05</td>\n",
       "      <td>7520.607243</td>\n",
       "      <td>7520.607243</td>\n",
       "      <td>13767.842735</td>\n",
       "      <td>13738.480474</td>\n",
       "      <td>11287.448154</td>\n",
       "      <td>1.306828</td>\n",
       "      <td>1.147342</td>\n",
       "      <td>11.930429</td>\n",
       "      <td>9.800439</td>\n",
       "      <td>11.081696</td>\n",
       "      <td>10.400321</td>\n",
       "      <td>11.184020</td>\n",
       "      <td>10.440281</td>\n",
       "      <td>10.215524</td>\n",
       "      <td>9.871917</td>\n",
       "      <td>9.435304</td>\n",
       "    </tr>\n",
       "    <tr>\n",
       "      <th>min</th>\n",
       "      <td>6.541530e+05</td>\n",
       "      <td>1.000000</td>\n",
       "      <td>1.000000</td>\n",
       "      <td>1601.000000</td>\n",
       "      <td>1601.000000</td>\n",
       "      <td>1601.000000</td>\n",
       "      <td>0.000000</td>\n",
       "      <td>0.000000</td>\n",
       "      <td>20.000000</td>\n",
       "      <td>24.000000</td>\n",
       "      <td>20.000000</td>\n",
       "      <td>21.000000</td>\n",
       "      <td>20.000000</td>\n",
       "      <td>22.000000</td>\n",
       "      <td>23.000000</td>\n",
       "      <td>24.000000</td>\n",
       "      <td>30.000000</td>\n",
       "    </tr>\n",
       "    <tr>\n",
       "      <th>25%</th>\n",
       "      <td>1.025090e+06</td>\n",
       "      <td>4769.000000</td>\n",
       "      <td>4769.000000</td>\n",
       "      <td>8472.000000</td>\n",
       "      <td>8472.000000</td>\n",
       "      <td>8481.000000</td>\n",
       "      <td>1.000000</td>\n",
       "      <td>0.000000</td>\n",
       "      <td>45.000000</td>\n",
       "      <td>42.000000</td>\n",
       "      <td>39.000000</td>\n",
       "      <td>47.000000</td>\n",
       "      <td>48.000000</td>\n",
       "      <td>49.000000</td>\n",
       "      <td>39.000000</td>\n",
       "      <td>44.000000</td>\n",
       "      <td>48.000000</td>\n",
       "    </tr>\n",
       "    <tr>\n",
       "      <th>50%</th>\n",
       "      <td>1.260174e+06</td>\n",
       "      <td>10257.000000</td>\n",
       "      <td>10257.000000</td>\n",
       "      <td>8697.000000</td>\n",
       "      <td>8697.000000</td>\n",
       "      <td>8721.000000</td>\n",
       "      <td>1.000000</td>\n",
       "      <td>1.000000</td>\n",
       "      <td>52.000000</td>\n",
       "      <td>49.000000</td>\n",
       "      <td>49.000000</td>\n",
       "      <td>52.000000</td>\n",
       "      <td>53.000000</td>\n",
       "      <td>54.000000</td>\n",
       "      <td>46.000000</td>\n",
       "      <td>48.000000</td>\n",
       "      <td>52.000000</td>\n",
       "    </tr>\n",
       "    <tr>\n",
       "      <th>75%</th>\n",
       "      <td>1.724266e+06</td>\n",
       "      <td>17642.000000</td>\n",
       "      <td>17642.000000</td>\n",
       "      <td>9925.000000</td>\n",
       "      <td>9925.000000</td>\n",
       "      <td>9925.000000</td>\n",
       "      <td>2.000000</td>\n",
       "      <td>2.000000</td>\n",
       "      <td>62.000000</td>\n",
       "      <td>55.000000</td>\n",
       "      <td>55.000000</td>\n",
       "      <td>60.000000</td>\n",
       "      <td>63.000000</td>\n",
       "      <td>62.000000</td>\n",
       "      <td>53.000000</td>\n",
       "      <td>56.000000</td>\n",
       "      <td>59.000000</td>\n",
       "    </tr>\n",
       "    <tr>\n",
       "      <th>max</th>\n",
       "      <td>2.216672e+06</td>\n",
       "      <td>24558.000000</td>\n",
       "      <td>24558.000000</td>\n",
       "      <td>274581.000000</td>\n",
       "      <td>274581.000000</td>\n",
       "      <td>274581.000000</td>\n",
       "      <td>10.000000</td>\n",
       "      <td>9.000000</td>\n",
       "      <td>80.000000</td>\n",
       "      <td>77.000000</td>\n",
       "      <td>80.000000</td>\n",
       "      <td>80.000000</td>\n",
       "      <td>80.000000</td>\n",
       "      <td>80.000000</td>\n",
       "      <td>72.000000</td>\n",
       "      <td>72.000000</td>\n",
       "      <td>73.000000</td>\n",
       "    </tr>\n",
       "  </tbody>\n",
       "</table>\n",
       "</div>"
      ],
      "text/plain": [
       "       match_api_id    country_id     league_id  home_team_api_id  \\\n",
       "count  3.988200e+04  39882.000000  39882.000000      39882.000000   \n",
       "mean   1.360436e+06  11763.067148  11763.067148       9956.776992   \n",
       "std    4.222426e+05   7520.607243   7520.607243      13767.842735   \n",
       "min    6.541530e+05      1.000000      1.000000       1601.000000   \n",
       "25%    1.025090e+06   4769.000000   4769.000000       8472.000000   \n",
       "50%    1.260174e+06  10257.000000  10257.000000       8697.000000   \n",
       "75%    1.724266e+06  17642.000000  17642.000000       9925.000000   \n",
       "max    2.216672e+06  24558.000000  24558.000000     274581.000000   \n",
       "\n",
       "       away_team_api_id    team_api_id  home_team_goal  away_team_goal  \\\n",
       "count      39882.000000   39882.000000    39882.000000    39882.000000   \n",
       "mean        9954.216087    9665.847425        1.554787        1.173888   \n",
       "std        13738.480474   11287.448154        1.306828        1.147342   \n",
       "min         1601.000000    1601.000000        0.000000        0.000000   \n",
       "25%         8472.000000    8481.000000        1.000000        0.000000   \n",
       "50%         8697.000000    8721.000000        1.000000        1.000000   \n",
       "75%         9925.000000    9925.000000        2.000000        2.000000   \n",
       "max       274581.000000  274581.000000       10.000000        9.000000   \n",
       "\n",
       "       bu_play_speed  bu_play_dribbling  bu_play_passing    cc_passing  \\\n",
       "count   39882.000000       11749.000000     39882.000000  39882.000000   \n",
       "mean       52.412818          49.088433        47.927210     52.411664   \n",
       "std        11.930429           9.800439        11.081696     10.400321   \n",
       "min        20.000000          24.000000        20.000000     21.000000   \n",
       "25%        45.000000          42.000000        39.000000     47.000000   \n",
       "50%        52.000000          49.000000        49.000000     52.000000   \n",
       "75%        62.000000          55.000000        55.000000     60.000000   \n",
       "max        80.000000          77.000000        80.000000     80.000000   \n",
       "\n",
       "        cc_crossing   cc_shooting  defence_pressure  defence_aggression  \\\n",
       "count  39882.000000  39882.000000      39882.000000        39882.000000   \n",
       "mean      54.034627     54.270473         46.466978           49.474625   \n",
       "std       11.184020     10.440281         10.215524            9.871917   \n",
       "min       20.000000     22.000000         23.000000           24.000000   \n",
       "25%       48.000000     49.000000         39.000000           44.000000   \n",
       "50%       53.000000     54.000000         46.000000           48.000000   \n",
       "75%       63.000000     62.000000         53.000000           56.000000   \n",
       "max       80.000000     80.000000         72.000000           72.000000   \n",
       "\n",
       "       defence_team_width  \n",
       "count        39882.000000  \n",
       "mean            52.337596  \n",
       "std              9.435304  \n",
       "min             30.000000  \n",
       "25%             48.000000  \n",
       "50%             52.000000  \n",
       "75%             59.000000  \n",
       "max             73.000000  "
      ]
     },
     "execution_count": 4,
     "metadata": {},
     "output_type": "execute_result"
    }
   ],
   "source": [
    "df.describe()"
   ]
  },
  {
   "cell_type": "code",
   "execution_count": 5,
   "metadata": {
    "scrolled": false
   },
   "outputs": [
    {
     "name": "stdout",
     "output_type": "stream",
     "text": [
      "<class 'pandas.core.frame.DataFrame'>\n",
      "RangeIndex: 39882 entries, 0 to 39881\n",
      "Data columns (total 37 columns):\n",
      "match_api_id                 39882 non-null int64\n",
      "match_dt                     39882 non-null object\n",
      "country_id                   39882 non-null int64\n",
      "country_name                 39882 non-null object\n",
      "league_id                    39882 non-null int64\n",
      "league_name                  39882 non-null object\n",
      "season                       39882 non-null object\n",
      "home_team_api_id             39882 non-null int64\n",
      "away_team_api_id             39882 non-null int64\n",
      "team_api_id                  39882 non-null int64\n",
      "team_long_name               39882 non-null object\n",
      "team_short_name              39882 non-null object\n",
      "home_team_goal               39882 non-null int64\n",
      "away_team_goal               39882 non-null int64\n",
      "t_attr_start_dt              39882 non-null object\n",
      "t_attr_end_dt                39882 non-null object\n",
      "bu_play_speed                39882 non-null int64\n",
      "bu_play_speed_class          39882 non-null object\n",
      "bu_play_dribbling            11749 non-null float64\n",
      "bu_play_dribbling_class      39882 non-null object\n",
      "bu_play_passing              39882 non-null int64\n",
      "bu_play_passing_class        39882 non-null object\n",
      "bu_play_positioning_class    39882 non-null object\n",
      "cc_passing                   39882 non-null int64\n",
      "cc_passing_class             39882 non-null object\n",
      "cc_crossing                  39882 non-null int64\n",
      "cc_crossing_class            39882 non-null object\n",
      "cc_shooting                  39882 non-null int64\n",
      "cc_shooting_class            39882 non-null object\n",
      "cc_positioning_class         39882 non-null object\n",
      "defence_pressure             39882 non-null int64\n",
      "defence_pressure_class       39882 non-null object\n",
      "defence_aggression           39882 non-null int64\n",
      "defence_agression_class      39882 non-null object\n",
      "defence_team_width           39882 non-null int64\n",
      "defence_team_width_class     39882 non-null object\n",
      "defence_line_class           39882 non-null object\n",
      "dtypes: float64(1), int64(16), object(20)\n",
      "memory usage: 11.3+ MB\n"
     ]
    }
   ],
   "source": [
    "df.info()"
   ]
  },
  {
   "cell_type": "markdown",
   "metadata": {},
   "source": [
    "The **bu_play_dribbling** column has null data. There are *27,133 records* with null data"
   ]
  },
  {
   "cell_type": "markdown",
   "metadata": {},
   "source": [
    "### Data Cleaning \n",
    "\n",
    "\n",
    "The data contains **39,882 rows** and **37 columns**.\n",
    "\n",
    "The data consists of match data, team data, and team attribute data at the time the match took place.\n",
    "For each team attribute respresented with a numerical value, there is a corresponding classifaction.\n",
    "\n",
    "\n",
    "The **match_api_id, country_id, country_name, league_id, league_name** and **season** columns can be dropped since they are not relevant to determine how a team's attributes contribute to their wins.\n",
    "\n",
    "The data will need to be cleaned, to fill the null values for the **bu_play_dribbling** column. \n",
    "This will be done by determing with class the null value corresponds to and filled with the mean of that class."
   ]
  },
  {
   "cell_type": "code",
   "execution_count": 6,
   "metadata": {},
   "outputs": [],
   "source": [
    "# Drop columns that are not needed\n",
    "df.drop(['match_api_id','country_id','league_id','country_name','league_name', 'season'], axis=1, inplace = True)"
   ]
  },
  {
   "cell_type": "code",
   "execution_count": 7,
   "metadata": {},
   "outputs": [
    {
     "data": {
      "text/html": [
       "<div>\n",
       "<style scoped>\n",
       "    .dataframe tbody tr th:only-of-type {\n",
       "        vertical-align: middle;\n",
       "    }\n",
       "\n",
       "    .dataframe tbody tr th {\n",
       "        vertical-align: top;\n",
       "    }\n",
       "\n",
       "    .dataframe thead th {\n",
       "        text-align: right;\n",
       "    }\n",
       "</style>\n",
       "<table border=\"1\" class=\"dataframe\">\n",
       "  <thead>\n",
       "    <tr style=\"text-align: right;\">\n",
       "      <th></th>\n",
       "      <th>match_dt</th>\n",
       "      <th>home_team_api_id</th>\n",
       "      <th>away_team_api_id</th>\n",
       "      <th>team_api_id</th>\n",
       "      <th>team_long_name</th>\n",
       "      <th>team_short_name</th>\n",
       "      <th>home_team_goal</th>\n",
       "      <th>away_team_goal</th>\n",
       "      <th>t_attr_start_dt</th>\n",
       "      <th>t_attr_end_dt</th>\n",
       "      <th>...</th>\n",
       "      <th>cc_shooting</th>\n",
       "      <th>cc_shooting_class</th>\n",
       "      <th>cc_positioning_class</th>\n",
       "      <th>defence_pressure</th>\n",
       "      <th>defence_pressure_class</th>\n",
       "      <th>defence_aggression</th>\n",
       "      <th>defence_agression_class</th>\n",
       "      <th>defence_team_width</th>\n",
       "      <th>defence_team_width_class</th>\n",
       "      <th>defence_line_class</th>\n",
       "    </tr>\n",
       "  </thead>\n",
       "  <tbody>\n",
       "    <tr>\n",
       "      <th>0</th>\n",
       "      <td>2015-09-26 00:00:00</td>\n",
       "      <td>2186</td>\n",
       "      <td>1601</td>\n",
       "      <td>1601</td>\n",
       "      <td>Ruch Chorzów</td>\n",
       "      <td>CHO</td>\n",
       "      <td>2</td>\n",
       "      <td>1</td>\n",
       "      <td>2015-09-10 00:00:00</td>\n",
       "      <td>2016-05-25 00:00:00</td>\n",
       "      <td>...</td>\n",
       "      <td>50</td>\n",
       "      <td>Normal</td>\n",
       "      <td>Organised</td>\n",
       "      <td>43</td>\n",
       "      <td>Medium</td>\n",
       "      <td>44</td>\n",
       "      <td>Press</td>\n",
       "      <td>49</td>\n",
       "      <td>Normal</td>\n",
       "      <td>Cover</td>\n",
       "    </tr>\n",
       "    <tr>\n",
       "      <th>1</th>\n",
       "      <td>2015-10-02 00:00:00</td>\n",
       "      <td>1601</td>\n",
       "      <td>8023</td>\n",
       "      <td>1601</td>\n",
       "      <td>Ruch Chorzów</td>\n",
       "      <td>CHO</td>\n",
       "      <td>0</td>\n",
       "      <td>2</td>\n",
       "      <td>2015-09-10 00:00:00</td>\n",
       "      <td>2016-05-25 00:00:00</td>\n",
       "      <td>...</td>\n",
       "      <td>50</td>\n",
       "      <td>Normal</td>\n",
       "      <td>Organised</td>\n",
       "      <td>43</td>\n",
       "      <td>Medium</td>\n",
       "      <td>44</td>\n",
       "      <td>Press</td>\n",
       "      <td>49</td>\n",
       "      <td>Normal</td>\n",
       "      <td>Cover</td>\n",
       "    </tr>\n",
       "    <tr>\n",
       "      <th>2</th>\n",
       "      <td>2015-10-17 00:00:00</td>\n",
       "      <td>2182</td>\n",
       "      <td>1601</td>\n",
       "      <td>1601</td>\n",
       "      <td>Ruch Chorzów</td>\n",
       "      <td>CHO</td>\n",
       "      <td>2</td>\n",
       "      <td>2</td>\n",
       "      <td>2015-09-10 00:00:00</td>\n",
       "      <td>2016-05-25 00:00:00</td>\n",
       "      <td>...</td>\n",
       "      <td>50</td>\n",
       "      <td>Normal</td>\n",
       "      <td>Organised</td>\n",
       "      <td>43</td>\n",
       "      <td>Medium</td>\n",
       "      <td>44</td>\n",
       "      <td>Press</td>\n",
       "      <td>49</td>\n",
       "      <td>Normal</td>\n",
       "      <td>Cover</td>\n",
       "    </tr>\n",
       "    <tr>\n",
       "      <th>3</th>\n",
       "      <td>2015-10-23 00:00:00</td>\n",
       "      <td>1601</td>\n",
       "      <td>8025</td>\n",
       "      <td>1601</td>\n",
       "      <td>Ruch Chorzów</td>\n",
       "      <td>CHO</td>\n",
       "      <td>1</td>\n",
       "      <td>0</td>\n",
       "      <td>2015-09-10 00:00:00</td>\n",
       "      <td>2016-05-25 00:00:00</td>\n",
       "      <td>...</td>\n",
       "      <td>50</td>\n",
       "      <td>Normal</td>\n",
       "      <td>Organised</td>\n",
       "      <td>43</td>\n",
       "      <td>Medium</td>\n",
       "      <td>44</td>\n",
       "      <td>Press</td>\n",
       "      <td>49</td>\n",
       "      <td>Normal</td>\n",
       "      <td>Cover</td>\n",
       "    </tr>\n",
       "    <tr>\n",
       "      <th>4</th>\n",
       "      <td>2015-10-30 00:00:00</td>\n",
       "      <td>10265</td>\n",
       "      <td>1601</td>\n",
       "      <td>1601</td>\n",
       "      <td>Ruch Chorzów</td>\n",
       "      <td>CHO</td>\n",
       "      <td>0</td>\n",
       "      <td>0</td>\n",
       "      <td>2015-09-10 00:00:00</td>\n",
       "      <td>2016-05-25 00:00:00</td>\n",
       "      <td>...</td>\n",
       "      <td>50</td>\n",
       "      <td>Normal</td>\n",
       "      <td>Organised</td>\n",
       "      <td>43</td>\n",
       "      <td>Medium</td>\n",
       "      <td>44</td>\n",
       "      <td>Press</td>\n",
       "      <td>49</td>\n",
       "      <td>Normal</td>\n",
       "      <td>Cover</td>\n",
       "    </tr>\n",
       "  </tbody>\n",
       "</table>\n",
       "<p>5 rows × 31 columns</p>\n",
       "</div>"
      ],
      "text/plain": [
       "              match_dt  home_team_api_id  away_team_api_id  team_api_id  \\\n",
       "0  2015-09-26 00:00:00              2186              1601         1601   \n",
       "1  2015-10-02 00:00:00              1601              8023         1601   \n",
       "2  2015-10-17 00:00:00              2182              1601         1601   \n",
       "3  2015-10-23 00:00:00              1601              8025         1601   \n",
       "4  2015-10-30 00:00:00             10265              1601         1601   \n",
       "\n",
       "  team_long_name team_short_name  home_team_goal  away_team_goal  \\\n",
       "0   Ruch Chorzów             CHO               2               1   \n",
       "1   Ruch Chorzów             CHO               0               2   \n",
       "2   Ruch Chorzów             CHO               2               2   \n",
       "3   Ruch Chorzów             CHO               1               0   \n",
       "4   Ruch Chorzów             CHO               0               0   \n",
       "\n",
       "       t_attr_start_dt        t_attr_end_dt         ...          cc_shooting  \\\n",
       "0  2015-09-10 00:00:00  2016-05-25 00:00:00         ...                   50   \n",
       "1  2015-09-10 00:00:00  2016-05-25 00:00:00         ...                   50   \n",
       "2  2015-09-10 00:00:00  2016-05-25 00:00:00         ...                   50   \n",
       "3  2015-09-10 00:00:00  2016-05-25 00:00:00         ...                   50   \n",
       "4  2015-09-10 00:00:00  2016-05-25 00:00:00         ...                   50   \n",
       "\n",
       "  cc_shooting_class  cc_positioning_class defence_pressure  \\\n",
       "0            Normal             Organised               43   \n",
       "1            Normal             Organised               43   \n",
       "2            Normal             Organised               43   \n",
       "3            Normal             Organised               43   \n",
       "4            Normal             Organised               43   \n",
       "\n",
       "   defence_pressure_class defence_aggression defence_agression_class  \\\n",
       "0                  Medium                 44                   Press   \n",
       "1                  Medium                 44                   Press   \n",
       "2                  Medium                 44                   Press   \n",
       "3                  Medium                 44                   Press   \n",
       "4                  Medium                 44                   Press   \n",
       "\n",
       "   defence_team_width defence_team_width_class  defence_line_class  \n",
       "0                  49                   Normal               Cover  \n",
       "1                  49                   Normal               Cover  \n",
       "2                  49                   Normal               Cover  \n",
       "3                  49                   Normal               Cover  \n",
       "4                  49                   Normal               Cover  \n",
       "\n",
       "[5 rows x 31 columns]"
      ]
     },
     "execution_count": 7,
     "metadata": {},
     "output_type": "execute_result"
    }
   ],
   "source": [
    "df.head()"
   ]
  },
  {
   "cell_type": "code",
   "execution_count": 8,
   "metadata": {},
   "outputs": [
    {
     "data": {
      "text/plain": [
       "(39882, 31)"
      ]
     },
     "execution_count": 8,
     "metadata": {},
     "output_type": "execute_result"
    }
   ],
   "source": [
    "df.shape"
   ]
  },
  {
   "cell_type": "markdown",
   "metadata": {},
   "source": [
    "After dropping the columns, there are now **39,882 rows** and **31 columns** in the data frame"
   ]
  },
  {
   "cell_type": "code",
   "execution_count": 9,
   "metadata": {},
   "outputs": [
    {
     "name": "stdout",
     "output_type": "stream",
     "text": [
      "<class 'pandas.core.frame.DataFrame'>\n",
      "RangeIndex: 39882 entries, 0 to 39881\n",
      "Data columns (total 31 columns):\n",
      "match_dt                     39882 non-null object\n",
      "home_team_api_id             39882 non-null int64\n",
      "away_team_api_id             39882 non-null int64\n",
      "team_api_id                  39882 non-null int64\n",
      "team_long_name               39882 non-null object\n",
      "team_short_name              39882 non-null object\n",
      "home_team_goal               39882 non-null int64\n",
      "away_team_goal               39882 non-null int64\n",
      "t_attr_start_dt              39882 non-null object\n",
      "t_attr_end_dt                39882 non-null object\n",
      "bu_play_speed                39882 non-null int64\n",
      "bu_play_speed_class          39882 non-null object\n",
      "bu_play_dribbling            11749 non-null float64\n",
      "bu_play_dribbling_class      39882 non-null object\n",
      "bu_play_passing              39882 non-null int64\n",
      "bu_play_passing_class        39882 non-null object\n",
      "bu_play_positioning_class    39882 non-null object\n",
      "cc_passing                   39882 non-null int64\n",
      "cc_passing_class             39882 non-null object\n",
      "cc_crossing                  39882 non-null int64\n",
      "cc_crossing_class            39882 non-null object\n",
      "cc_shooting                  39882 non-null int64\n",
      "cc_shooting_class            39882 non-null object\n",
      "cc_positioning_class         39882 non-null object\n",
      "defence_pressure             39882 non-null int64\n",
      "defence_pressure_class       39882 non-null object\n",
      "defence_aggression           39882 non-null int64\n",
      "defence_agression_class      39882 non-null object\n",
      "defence_team_width           39882 non-null int64\n",
      "defence_team_width_class     39882 non-null object\n",
      "defence_line_class           39882 non-null object\n",
      "dtypes: float64(1), int64(13), object(17)\n",
      "memory usage: 9.4+ MB\n"
     ]
    }
   ],
   "source": [
    "df.info()"
   ]
  },
  {
   "cell_type": "markdown",
   "metadata": {},
   "source": [
    "The **bu_play_dribbling** column has null data. There are *27,133 records* with null data"
   ]
  },
  {
   "cell_type": "code",
   "execution_count": 10,
   "metadata": {
    "scrolled": true
   },
   "outputs": [
    {
     "data": {
      "text/plain": [
       "array(['Normal', 'Little', 'Lots'], dtype=object)"
      ]
     },
     "execution_count": 10,
     "metadata": {},
     "output_type": "execute_result"
    }
   ],
   "source": [
    "# Find the bu_play_dribbling clases\n",
    "df.bu_play_dribbling_class.unique()"
   ]
  },
  {
   "cell_type": "markdown",
   "metadata": {},
   "source": [
    "There are 3 classes for **bu_play_dribbling**: *Normal, Little and Lots*"
   ]
  },
  {
   "cell_type": "code",
   "execution_count": 11,
   "metadata": {},
   "outputs": [
    {
     "data": {
      "text/plain": [
       "array(['Little'], dtype=object)"
      ]
     },
     "execution_count": 11,
     "metadata": {},
     "output_type": "execute_result"
    }
   ],
   "source": [
    "df[df.bu_play_dribbling.isnull()]['bu_play_dribbling_class'].unique()"
   ]
  },
  {
   "cell_type": "markdown",
   "metadata": {},
   "source": [
    "All of the null values from the **bu_play_dribbling** column belong to the **bu_play_dribbling_class** *Little*. \n",
    "\n",
    "We need to fill those null values with the mean of the *Little* **bu_play_dribbling** columns"
   ]
  },
  {
   "cell_type": "code",
   "execution_count": 12,
   "metadata": {},
   "outputs": [],
   "source": [
    "# Normal Build Up Dribblig Class df\n",
    "df_normal_dribbling_class = df.query('bu_play_dribbling_class == \"Normal\"')"
   ]
  },
  {
   "cell_type": "markdown",
   "metadata": {},
   "source": [
    "Created a data frame for the *Normal* **bu_play_dribbling_class**"
   ]
  },
  {
   "cell_type": "code",
   "execution_count": 13,
   "metadata": {},
   "outputs": [
    {
     "data": {
      "text/plain": [
       "(34.0, 66.0)"
      ]
     },
     "execution_count": 13,
     "metadata": {},
     "output_type": "execute_result"
    }
   ],
   "source": [
    "# Range for Normal Build Up Dribblig\n",
    "(df_normal_dribbling_class.bu_play_dribbling.min(), df_normal_dribbling_class.bu_play_dribbling.max())"
   ]
  },
  {
   "cell_type": "markdown",
   "metadata": {},
   "source": [
    "The range of values for the *Normal* **bu_play_dribbling_class** is (34.0, 66.0)"
   ]
  },
  {
   "cell_type": "code",
   "execution_count": 14,
   "metadata": {},
   "outputs": [],
   "source": [
    "# Lots Build Up Dribblig Class df\n",
    "df_lots_dribbling_class = df.query('bu_play_dribbling_class == \"Lots\"')"
   ]
  },
  {
   "cell_type": "markdown",
   "metadata": {},
   "source": [
    "Created a data frame for the *Lots* **bu_play_dribbling_class**"
   ]
  },
  {
   "cell_type": "code",
   "execution_count": 15,
   "metadata": {},
   "outputs": [
    {
     "data": {
      "text/plain": [
       "(67.0, 77.0)"
      ]
     },
     "execution_count": 15,
     "metadata": {},
     "output_type": "execute_result"
    }
   ],
   "source": [
    "# Range for Lots Build Up Dribblig\n",
    "(df_lots_dribbling_class.bu_play_dribbling.min(),df_lots_dribbling_class.bu_play_dribbling.max())"
   ]
  },
  {
   "cell_type": "markdown",
   "metadata": {},
   "source": [
    "The range of values for the *Lots* **bu_play_dribbling_class** is (67.0, 77.0)"
   ]
  },
  {
   "cell_type": "code",
   "execution_count": 16,
   "metadata": {},
   "outputs": [],
   "source": [
    "# Little Build Up Dribblig Class df\n",
    "df_little_dribbling_class = df.query('bu_play_dribbling_class == \"Little\"')"
   ]
  },
  {
   "cell_type": "markdown",
   "metadata": {},
   "source": [
    "Created a data frame for the *Little* **bu_play_dribbling_class**"
   ]
  },
  {
   "cell_type": "code",
   "execution_count": 17,
   "metadata": {},
   "outputs": [
    {
     "data": {
      "text/plain": [
       "(24.0, 33.0)"
      ]
     },
     "execution_count": 17,
     "metadata": {},
     "output_type": "execute_result"
    }
   ],
   "source": [
    "# Range for Little Build Up Dribblig\n",
    "(df_little_dribbling_class.bu_play_dribbling.min(),df_little_dribbling_class.bu_play_dribbling.max())"
   ]
  },
  {
   "cell_type": "markdown",
   "metadata": {},
   "source": [
    "The range of values for the *Little* **bu_play_dribbling_class** is (24.0, 33.0)"
   ]
  },
  {
   "cell_type": "code",
   "execution_count": 18,
   "metadata": {},
   "outputs": [
    {
     "data": {
      "text/plain": [
       "30.44859813084112"
      ]
     },
     "execution_count": 18,
     "metadata": {},
     "output_type": "execute_result"
    }
   ],
   "source": [
    "# Find the mean of the Little Build Up Dribbling class df\n",
    "df_little_dribbling_class['bu_play_dribbling'].mean()"
   ]
  },
  {
   "cell_type": "markdown",
   "metadata": {},
   "source": [
    "The mean of the **bu_play_dribbling_class** for the *Little* class is 30.44859813084112"
   ]
  },
  {
   "cell_type": "code",
   "execution_count": 19,
   "metadata": {},
   "outputs": [],
   "source": [
    "# Fill nan values with the mean of the litle dribbling class since they were all inthe little dribblng class\n",
    "df['bu_play_dribbling'].fillna(df_little_dribbling_class['bu_play_dribbling'].mean(), inplace=True)"
   ]
  },
  {
   "cell_type": "markdown",
   "metadata": {},
   "source": [
    "The null values for **bu_play_dribbling** were filled with the mean of the *Little* class"
   ]
  },
  {
   "cell_type": "code",
   "execution_count": 20,
   "metadata": {},
   "outputs": [
    {
     "name": "stdout",
     "output_type": "stream",
     "text": [
      "<class 'pandas.core.frame.DataFrame'>\n",
      "RangeIndex: 39882 entries, 0 to 39881\n",
      "Data columns (total 31 columns):\n",
      "match_dt                     39882 non-null object\n",
      "home_team_api_id             39882 non-null int64\n",
      "away_team_api_id             39882 non-null int64\n",
      "team_api_id                  39882 non-null int64\n",
      "team_long_name               39882 non-null object\n",
      "team_short_name              39882 non-null object\n",
      "home_team_goal               39882 non-null int64\n",
      "away_team_goal               39882 non-null int64\n",
      "t_attr_start_dt              39882 non-null object\n",
      "t_attr_end_dt                39882 non-null object\n",
      "bu_play_speed                39882 non-null int64\n",
      "bu_play_speed_class          39882 non-null object\n",
      "bu_play_dribbling            39882 non-null float64\n",
      "bu_play_dribbling_class      39882 non-null object\n",
      "bu_play_passing              39882 non-null int64\n",
      "bu_play_passing_class        39882 non-null object\n",
      "bu_play_positioning_class    39882 non-null object\n",
      "cc_passing                   39882 non-null int64\n",
      "cc_passing_class             39882 non-null object\n",
      "cc_crossing                  39882 non-null int64\n",
      "cc_crossing_class            39882 non-null object\n",
      "cc_shooting                  39882 non-null int64\n",
      "cc_shooting_class            39882 non-null object\n",
      "cc_positioning_class         39882 non-null object\n",
      "defence_pressure             39882 non-null int64\n",
      "defence_pressure_class       39882 non-null object\n",
      "defence_aggression           39882 non-null int64\n",
      "defence_agression_class      39882 non-null object\n",
      "defence_team_width           39882 non-null int64\n",
      "defence_team_width_class     39882 non-null object\n",
      "defence_line_class           39882 non-null object\n",
      "dtypes: float64(1), int64(13), object(17)\n",
      "memory usage: 9.4+ MB\n"
     ]
    }
   ],
   "source": [
    "df.info()"
   ]
  },
  {
   "cell_type": "markdown",
   "metadata": {},
   "source": [
    "The **bu_play_dribbling** column has all null values filled"
   ]
  },
  {
   "cell_type": "code",
   "execution_count": 21,
   "metadata": {},
   "outputs": [
    {
     "data": {
      "text/plain": [
       "0"
      ]
     },
     "execution_count": 21,
     "metadata": {},
     "output_type": "execute_result"
    }
   ],
   "source": [
    "df.duplicated().sum()"
   ]
  },
  {
   "cell_type": "markdown",
   "metadata": {},
   "source": [
    "There are **no duplicates** in the data frame"
   ]
  },
  {
   "cell_type": "code",
   "execution_count": 22,
   "metadata": {},
   "outputs": [
    {
     "data": {
      "text/plain": [
       "(39882, 31)"
      ]
     },
     "execution_count": 22,
     "metadata": {},
     "output_type": "execute_result"
    }
   ],
   "source": [
    "df.shape"
   ]
  },
  {
   "cell_type": "markdown",
   "metadata": {},
   "source": [
    "There are still **39,882 rows** and **31 columns** in the data frame"
   ]
  },
  {
   "cell_type": "code",
   "execution_count": 23,
   "metadata": {},
   "outputs": [
    {
     "data": {
      "text/html": [
       "<div>\n",
       "<style scoped>\n",
       "    .dataframe tbody tr th:only-of-type {\n",
       "        vertical-align: middle;\n",
       "    }\n",
       "\n",
       "    .dataframe tbody tr th {\n",
       "        vertical-align: top;\n",
       "    }\n",
       "\n",
       "    .dataframe thead th {\n",
       "        text-align: right;\n",
       "    }\n",
       "</style>\n",
       "<table border=\"1\" class=\"dataframe\">\n",
       "  <thead>\n",
       "    <tr style=\"text-align: right;\">\n",
       "      <th></th>\n",
       "      <th>home_team_api_id</th>\n",
       "      <th>away_team_api_id</th>\n",
       "      <th>team_api_id</th>\n",
       "      <th>home_team_goal</th>\n",
       "      <th>away_team_goal</th>\n",
       "      <th>bu_play_speed</th>\n",
       "      <th>bu_play_dribbling</th>\n",
       "      <th>bu_play_passing</th>\n",
       "      <th>cc_passing</th>\n",
       "      <th>cc_crossing</th>\n",
       "      <th>cc_shooting</th>\n",
       "      <th>defence_pressure</th>\n",
       "      <th>defence_aggression</th>\n",
       "      <th>defence_team_width</th>\n",
       "    </tr>\n",
       "  </thead>\n",
       "  <tbody>\n",
       "    <tr>\n",
       "      <th>count</th>\n",
       "      <td>39882.000000</td>\n",
       "      <td>39882.000000</td>\n",
       "      <td>39882.000000</td>\n",
       "      <td>39882.000000</td>\n",
       "      <td>39882.000000</td>\n",
       "      <td>39882.000000</td>\n",
       "      <td>39882.000000</td>\n",
       "      <td>39882.000000</td>\n",
       "      <td>39882.000000</td>\n",
       "      <td>39882.000000</td>\n",
       "      <td>39882.000000</td>\n",
       "      <td>39882.000000</td>\n",
       "      <td>39882.000000</td>\n",
       "      <td>39882.000000</td>\n",
       "    </tr>\n",
       "    <tr>\n",
       "      <th>mean</th>\n",
       "      <td>9956.776992</td>\n",
       "      <td>9954.216087</td>\n",
       "      <td>9665.847425</td>\n",
       "      <td>1.554787</td>\n",
       "      <td>1.173888</td>\n",
       "      <td>52.412818</td>\n",
       "      <td>35.939783</td>\n",
       "      <td>47.927210</td>\n",
       "      <td>52.411664</td>\n",
       "      <td>54.034627</td>\n",
       "      <td>54.270473</td>\n",
       "      <td>46.466978</td>\n",
       "      <td>49.474625</td>\n",
       "      <td>52.337596</td>\n",
       "    </tr>\n",
       "    <tr>\n",
       "      <th>std</th>\n",
       "      <td>13767.842735</td>\n",
       "      <td>13738.480474</td>\n",
       "      <td>11287.448154</td>\n",
       "      <td>1.306828</td>\n",
       "      <td>1.147342</td>\n",
       "      <td>11.930429</td>\n",
       "      <td>10.024826</td>\n",
       "      <td>11.081696</td>\n",
       "      <td>10.400321</td>\n",
       "      <td>11.184020</td>\n",
       "      <td>10.440281</td>\n",
       "      <td>10.215524</td>\n",
       "      <td>9.871917</td>\n",
       "      <td>9.435304</td>\n",
       "    </tr>\n",
       "    <tr>\n",
       "      <th>min</th>\n",
       "      <td>1601.000000</td>\n",
       "      <td>1601.000000</td>\n",
       "      <td>1601.000000</td>\n",
       "      <td>0.000000</td>\n",
       "      <td>0.000000</td>\n",
       "      <td>20.000000</td>\n",
       "      <td>24.000000</td>\n",
       "      <td>20.000000</td>\n",
       "      <td>21.000000</td>\n",
       "      <td>20.000000</td>\n",
       "      <td>22.000000</td>\n",
       "      <td>23.000000</td>\n",
       "      <td>24.000000</td>\n",
       "      <td>30.000000</td>\n",
       "    </tr>\n",
       "    <tr>\n",
       "      <th>25%</th>\n",
       "      <td>8472.000000</td>\n",
       "      <td>8472.000000</td>\n",
       "      <td>8481.000000</td>\n",
       "      <td>1.000000</td>\n",
       "      <td>0.000000</td>\n",
       "      <td>45.000000</td>\n",
       "      <td>30.448598</td>\n",
       "      <td>39.000000</td>\n",
       "      <td>47.000000</td>\n",
       "      <td>48.000000</td>\n",
       "      <td>49.000000</td>\n",
       "      <td>39.000000</td>\n",
       "      <td>44.000000</td>\n",
       "      <td>48.000000</td>\n",
       "    </tr>\n",
       "    <tr>\n",
       "      <th>50%</th>\n",
       "      <td>8697.000000</td>\n",
       "      <td>8697.000000</td>\n",
       "      <td>8721.000000</td>\n",
       "      <td>1.000000</td>\n",
       "      <td>1.000000</td>\n",
       "      <td>52.000000</td>\n",
       "      <td>30.448598</td>\n",
       "      <td>49.000000</td>\n",
       "      <td>52.000000</td>\n",
       "      <td>53.000000</td>\n",
       "      <td>54.000000</td>\n",
       "      <td>46.000000</td>\n",
       "      <td>48.000000</td>\n",
       "      <td>52.000000</td>\n",
       "    </tr>\n",
       "    <tr>\n",
       "      <th>75%</th>\n",
       "      <td>9925.000000</td>\n",
       "      <td>9925.000000</td>\n",
       "      <td>9925.000000</td>\n",
       "      <td>2.000000</td>\n",
       "      <td>2.000000</td>\n",
       "      <td>62.000000</td>\n",
       "      <td>38.000000</td>\n",
       "      <td>55.000000</td>\n",
       "      <td>60.000000</td>\n",
       "      <td>63.000000</td>\n",
       "      <td>62.000000</td>\n",
       "      <td>53.000000</td>\n",
       "      <td>56.000000</td>\n",
       "      <td>59.000000</td>\n",
       "    </tr>\n",
       "    <tr>\n",
       "      <th>max</th>\n",
       "      <td>274581.000000</td>\n",
       "      <td>274581.000000</td>\n",
       "      <td>274581.000000</td>\n",
       "      <td>10.000000</td>\n",
       "      <td>9.000000</td>\n",
       "      <td>80.000000</td>\n",
       "      <td>77.000000</td>\n",
       "      <td>80.000000</td>\n",
       "      <td>80.000000</td>\n",
       "      <td>80.000000</td>\n",
       "      <td>80.000000</td>\n",
       "      <td>72.000000</td>\n",
       "      <td>72.000000</td>\n",
       "      <td>73.000000</td>\n",
       "    </tr>\n",
       "  </tbody>\n",
       "</table>\n",
       "</div>"
      ],
      "text/plain": [
       "       home_team_api_id  away_team_api_id    team_api_id  home_team_goal  \\\n",
       "count      39882.000000      39882.000000   39882.000000    39882.000000   \n",
       "mean        9956.776992       9954.216087    9665.847425        1.554787   \n",
       "std        13767.842735      13738.480474   11287.448154        1.306828   \n",
       "min         1601.000000       1601.000000    1601.000000        0.000000   \n",
       "25%         8472.000000       8472.000000    8481.000000        1.000000   \n",
       "50%         8697.000000       8697.000000    8721.000000        1.000000   \n",
       "75%         9925.000000       9925.000000    9925.000000        2.000000   \n",
       "max       274581.000000     274581.000000  274581.000000       10.000000   \n",
       "\n",
       "       away_team_goal  bu_play_speed  bu_play_dribbling  bu_play_passing  \\\n",
       "count    39882.000000   39882.000000       39882.000000     39882.000000   \n",
       "mean         1.173888      52.412818          35.939783        47.927210   \n",
       "std          1.147342      11.930429          10.024826        11.081696   \n",
       "min          0.000000      20.000000          24.000000        20.000000   \n",
       "25%          0.000000      45.000000          30.448598        39.000000   \n",
       "50%          1.000000      52.000000          30.448598        49.000000   \n",
       "75%          2.000000      62.000000          38.000000        55.000000   \n",
       "max          9.000000      80.000000          77.000000        80.000000   \n",
       "\n",
       "         cc_passing   cc_crossing   cc_shooting  defence_pressure  \\\n",
       "count  39882.000000  39882.000000  39882.000000      39882.000000   \n",
       "mean      52.411664     54.034627     54.270473         46.466978   \n",
       "std       10.400321     11.184020     10.440281         10.215524   \n",
       "min       21.000000     20.000000     22.000000         23.000000   \n",
       "25%       47.000000     48.000000     49.000000         39.000000   \n",
       "50%       52.000000     53.000000     54.000000         46.000000   \n",
       "75%       60.000000     63.000000     62.000000         53.000000   \n",
       "max       80.000000     80.000000     80.000000         72.000000   \n",
       "\n",
       "       defence_aggression  defence_team_width  \n",
       "count        39882.000000        39882.000000  \n",
       "mean            49.474625           52.337596  \n",
       "std              9.871917            9.435304  \n",
       "min             24.000000           30.000000  \n",
       "25%             44.000000           48.000000  \n",
       "50%             48.000000           52.000000  \n",
       "75%             56.000000           59.000000  \n",
       "max             72.000000           73.000000  "
      ]
     },
     "execution_count": 23,
     "metadata": {},
     "output_type": "execute_result"
    }
   ],
   "source": [
    "df.describe()"
   ]
  },
  {
   "cell_type": "markdown",
   "metadata": {},
   "source": [
    "<a id='eda'></a>\n",
    "## Exploratory Data Analysis\n",
    "\n",
    "\n",
    "\n",
    "### Question 1 : Which Teams won the most matches?"
   ]
  },
  {
   "cell_type": "code",
   "execution_count": 24,
   "metadata": {},
   "outputs": [],
   "source": [
    "# Use this, and more code cells, to explore your data. Don't forget to add\n",
    "#   Markdown cells to document your observations and findings.\n",
    "\n",
    "# Get matches that did not result in a Tied Match\n",
    "df_match_no_draw = df.query('home_team_goal != away_team_goal')"
   ]
  },
  {
   "cell_type": "code",
   "execution_count": 25,
   "metadata": {},
   "outputs": [
    {
     "data": {
      "text/plain": [
       "(29758, 31)"
      ]
     },
     "execution_count": 25,
     "metadata": {},
     "output_type": "execute_result"
    }
   ],
   "source": [
    "df_match_no_draw.shape"
   ]
  },
  {
   "cell_type": "markdown",
   "metadata": {},
   "source": [
    "There are **29,758 records** that consist of matches that resulted in no draw"
   ]
  },
  {
   "cell_type": "code",
   "execution_count": 26,
   "metadata": {},
   "outputs": [
    {
     "data": {
      "text/html": [
       "<div>\n",
       "<style scoped>\n",
       "    .dataframe tbody tr th:only-of-type {\n",
       "        vertical-align: middle;\n",
       "    }\n",
       "\n",
       "    .dataframe tbody tr th {\n",
       "        vertical-align: top;\n",
       "    }\n",
       "\n",
       "    .dataframe thead th {\n",
       "        text-align: right;\n",
       "    }\n",
       "</style>\n",
       "<table border=\"1\" class=\"dataframe\">\n",
       "  <thead>\n",
       "    <tr style=\"text-align: right;\">\n",
       "      <th></th>\n",
       "      <th>home_team_api_id</th>\n",
       "      <th>away_team_api_id</th>\n",
       "      <th>team_api_id</th>\n",
       "      <th>home_team_goal</th>\n",
       "      <th>away_team_goal</th>\n",
       "      <th>bu_play_speed</th>\n",
       "      <th>bu_play_dribbling</th>\n",
       "      <th>bu_play_passing</th>\n",
       "      <th>cc_passing</th>\n",
       "      <th>cc_crossing</th>\n",
       "      <th>cc_shooting</th>\n",
       "      <th>defence_pressure</th>\n",
       "      <th>defence_aggression</th>\n",
       "      <th>defence_team_width</th>\n",
       "    </tr>\n",
       "  </thead>\n",
       "  <tbody>\n",
       "    <tr>\n",
       "      <th>count</th>\n",
       "      <td>29758.000000</td>\n",
       "      <td>29758.000000</td>\n",
       "      <td>29758.000000</td>\n",
       "      <td>29758.000000</td>\n",
       "      <td>29758.000000</td>\n",
       "      <td>29758.000000</td>\n",
       "      <td>29758.000000</td>\n",
       "      <td>29758.000000</td>\n",
       "      <td>29758.000000</td>\n",
       "      <td>29758.000000</td>\n",
       "      <td>29758.000000</td>\n",
       "      <td>29758.000000</td>\n",
       "      <td>29758.00000</td>\n",
       "      <td>29758.000000</td>\n",
       "    </tr>\n",
       "    <tr>\n",
       "      <th>mean</th>\n",
       "      <td>9961.051415</td>\n",
       "      <td>9899.828685</td>\n",
       "      <td>9626.486491</td>\n",
       "      <td>1.743733</td>\n",
       "      <td>1.233248</td>\n",
       "      <td>52.347402</td>\n",
       "      <td>35.914585</td>\n",
       "      <td>47.896129</td>\n",
       "      <td>52.440117</td>\n",
       "      <td>54.045433</td>\n",
       "      <td>54.308354</td>\n",
       "      <td>46.573190</td>\n",
       "      <td>49.51361</td>\n",
       "      <td>52.355400</td>\n",
       "    </tr>\n",
       "    <tr>\n",
       "      <th>std</th>\n",
       "      <td>13757.721340</td>\n",
       "      <td>13420.665962</td>\n",
       "      <td>10930.258097</td>\n",
       "      <td>1.381442</td>\n",
       "      <td>1.229052</td>\n",
       "      <td>11.931015</td>\n",
       "      <td>9.982912</td>\n",
       "      <td>11.071162</td>\n",
       "      <td>10.413259</td>\n",
       "      <td>11.176362</td>\n",
       "      <td>10.476461</td>\n",
       "      <td>10.228084</td>\n",
       "      <td>9.87437</td>\n",
       "      <td>9.414251</td>\n",
       "    </tr>\n",
       "    <tr>\n",
       "      <th>min</th>\n",
       "      <td>1601.000000</td>\n",
       "      <td>1601.000000</td>\n",
       "      <td>1601.000000</td>\n",
       "      <td>0.000000</td>\n",
       "      <td>0.000000</td>\n",
       "      <td>20.000000</td>\n",
       "      <td>24.000000</td>\n",
       "      <td>20.000000</td>\n",
       "      <td>21.000000</td>\n",
       "      <td>20.000000</td>\n",
       "      <td>22.000000</td>\n",
       "      <td>23.000000</td>\n",
       "      <td>24.00000</td>\n",
       "      <td>30.000000</td>\n",
       "    </tr>\n",
       "    <tr>\n",
       "      <th>25%</th>\n",
       "      <td>8481.000000</td>\n",
       "      <td>8472.000000</td>\n",
       "      <td>8483.000000</td>\n",
       "      <td>1.000000</td>\n",
       "      <td>0.000000</td>\n",
       "      <td>45.000000</td>\n",
       "      <td>30.448598</td>\n",
       "      <td>39.000000</td>\n",
       "      <td>47.000000</td>\n",
       "      <td>48.000000</td>\n",
       "      <td>49.000000</td>\n",
       "      <td>39.000000</td>\n",
       "      <td>44.00000</td>\n",
       "      <td>48.000000</td>\n",
       "    </tr>\n",
       "    <tr>\n",
       "      <th>50%</th>\n",
       "      <td>8697.000000</td>\n",
       "      <td>8697.000000</td>\n",
       "      <td>8721.000000</td>\n",
       "      <td>2.000000</td>\n",
       "      <td>1.000000</td>\n",
       "      <td>52.000000</td>\n",
       "      <td>30.448598</td>\n",
       "      <td>49.000000</td>\n",
       "      <td>52.000000</td>\n",
       "      <td>53.000000</td>\n",
       "      <td>54.000000</td>\n",
       "      <td>46.000000</td>\n",
       "      <td>48.00000</td>\n",
       "      <td>52.000000</td>\n",
       "    </tr>\n",
       "    <tr>\n",
       "      <th>75%</th>\n",
       "      <td>9925.000000</td>\n",
       "      <td>9925.000000</td>\n",
       "      <td>9925.000000</td>\n",
       "      <td>3.000000</td>\n",
       "      <td>2.000000</td>\n",
       "      <td>62.000000</td>\n",
       "      <td>38.000000</td>\n",
       "      <td>55.000000</td>\n",
       "      <td>60.000000</td>\n",
       "      <td>63.000000</td>\n",
       "      <td>63.000000</td>\n",
       "      <td>53.000000</td>\n",
       "      <td>56.00000</td>\n",
       "      <td>59.000000</td>\n",
       "    </tr>\n",
       "    <tr>\n",
       "      <th>max</th>\n",
       "      <td>274581.000000</td>\n",
       "      <td>274581.000000</td>\n",
       "      <td>274581.000000</td>\n",
       "      <td>10.000000</td>\n",
       "      <td>9.000000</td>\n",
       "      <td>80.000000</td>\n",
       "      <td>77.000000</td>\n",
       "      <td>80.000000</td>\n",
       "      <td>80.000000</td>\n",
       "      <td>80.000000</td>\n",
       "      <td>80.000000</td>\n",
       "      <td>72.000000</td>\n",
       "      <td>72.00000</td>\n",
       "      <td>73.000000</td>\n",
       "    </tr>\n",
       "  </tbody>\n",
       "</table>\n",
       "</div>"
      ],
      "text/plain": [
       "       home_team_api_id  away_team_api_id    team_api_id  home_team_goal  \\\n",
       "count      29758.000000      29758.000000   29758.000000    29758.000000   \n",
       "mean        9961.051415       9899.828685    9626.486491        1.743733   \n",
       "std        13757.721340      13420.665962   10930.258097        1.381442   \n",
       "min         1601.000000       1601.000000    1601.000000        0.000000   \n",
       "25%         8481.000000       8472.000000    8483.000000        1.000000   \n",
       "50%         8697.000000       8697.000000    8721.000000        2.000000   \n",
       "75%         9925.000000       9925.000000    9925.000000        3.000000   \n",
       "max       274581.000000     274581.000000  274581.000000       10.000000   \n",
       "\n",
       "       away_team_goal  bu_play_speed  bu_play_dribbling  bu_play_passing  \\\n",
       "count    29758.000000   29758.000000       29758.000000     29758.000000   \n",
       "mean         1.233248      52.347402          35.914585        47.896129   \n",
       "std          1.229052      11.931015           9.982912        11.071162   \n",
       "min          0.000000      20.000000          24.000000        20.000000   \n",
       "25%          0.000000      45.000000          30.448598        39.000000   \n",
       "50%          1.000000      52.000000          30.448598        49.000000   \n",
       "75%          2.000000      62.000000          38.000000        55.000000   \n",
       "max          9.000000      80.000000          77.000000        80.000000   \n",
       "\n",
       "         cc_passing   cc_crossing   cc_shooting  defence_pressure  \\\n",
       "count  29758.000000  29758.000000  29758.000000      29758.000000   \n",
       "mean      52.440117     54.045433     54.308354         46.573190   \n",
       "std       10.413259     11.176362     10.476461         10.228084   \n",
       "min       21.000000     20.000000     22.000000         23.000000   \n",
       "25%       47.000000     48.000000     49.000000         39.000000   \n",
       "50%       52.000000     53.000000     54.000000         46.000000   \n",
       "75%       60.000000     63.000000     63.000000         53.000000   \n",
       "max       80.000000     80.000000     80.000000         72.000000   \n",
       "\n",
       "       defence_aggression  defence_team_width  \n",
       "count         29758.00000        29758.000000  \n",
       "mean             49.51361           52.355400  \n",
       "std               9.87437            9.414251  \n",
       "min              24.00000           30.000000  \n",
       "25%              44.00000           48.000000  \n",
       "50%              48.00000           52.000000  \n",
       "75%              56.00000           59.000000  \n",
       "max              72.00000           73.000000  "
      ]
     },
     "execution_count": 26,
     "metadata": {},
     "output_type": "execute_result"
    }
   ],
   "source": [
    "df_match_no_draw.describe()"
   ]
  },
  {
   "cell_type": "code",
   "execution_count": 27,
   "metadata": {},
   "outputs": [
    {
     "name": "stderr",
     "output_type": "stream",
     "text": [
      "/root/anaconda3/lib/python3.7/site-packages/ipykernel_launcher.py:2: SettingWithCopyWarning: \n",
      "A value is trying to be set on a copy of a slice from a DataFrame.\n",
      "Try using .loc[row_indexer,col_indexer] = value instead\n",
      "\n",
      "See the caveats in the documentation: http://pandas.pydata.org/pandas-docs/stable/indexing.html#indexing-view-versus-copy\n",
      "  \n"
     ]
    }
   ],
   "source": [
    "#Create a column to identify the winning team\n",
    "df_match_no_draw['win_team_id'] = np.where(df_match_no_draw['home_team_goal'] > df_match_no_draw['away_team_goal'], df_match_no_draw['home_team_api_id'], df_match_no_draw['away_team_api_id'])"
   ]
  },
  {
   "cell_type": "code",
   "execution_count": 28,
   "metadata": {},
   "outputs": [
    {
     "data": {
      "text/html": [
       "<div>\n",
       "<style scoped>\n",
       "    .dataframe tbody tr th:only-of-type {\n",
       "        vertical-align: middle;\n",
       "    }\n",
       "\n",
       "    .dataframe tbody tr th {\n",
       "        vertical-align: top;\n",
       "    }\n",
       "\n",
       "    .dataframe thead th {\n",
       "        text-align: right;\n",
       "    }\n",
       "</style>\n",
       "<table border=\"1\" class=\"dataframe\">\n",
       "  <thead>\n",
       "    <tr style=\"text-align: right;\">\n",
       "      <th></th>\n",
       "      <th>match_dt</th>\n",
       "      <th>home_team_api_id</th>\n",
       "      <th>away_team_api_id</th>\n",
       "      <th>team_api_id</th>\n",
       "      <th>team_long_name</th>\n",
       "      <th>team_short_name</th>\n",
       "      <th>home_team_goal</th>\n",
       "      <th>away_team_goal</th>\n",
       "      <th>t_attr_start_dt</th>\n",
       "      <th>t_attr_end_dt</th>\n",
       "      <th>...</th>\n",
       "      <th>cc_shooting_class</th>\n",
       "      <th>cc_positioning_class</th>\n",
       "      <th>defence_pressure</th>\n",
       "      <th>defence_pressure_class</th>\n",
       "      <th>defence_aggression</th>\n",
       "      <th>defence_agression_class</th>\n",
       "      <th>defence_team_width</th>\n",
       "      <th>defence_team_width_class</th>\n",
       "      <th>defence_line_class</th>\n",
       "      <th>win_team_id</th>\n",
       "    </tr>\n",
       "  </thead>\n",
       "  <tbody>\n",
       "    <tr>\n",
       "      <th>0</th>\n",
       "      <td>2015-09-26 00:00:00</td>\n",
       "      <td>2186</td>\n",
       "      <td>1601</td>\n",
       "      <td>1601</td>\n",
       "      <td>Ruch Chorzów</td>\n",
       "      <td>CHO</td>\n",
       "      <td>2</td>\n",
       "      <td>1</td>\n",
       "      <td>2015-09-10 00:00:00</td>\n",
       "      <td>2016-05-25 00:00:00</td>\n",
       "      <td>...</td>\n",
       "      <td>Normal</td>\n",
       "      <td>Organised</td>\n",
       "      <td>43</td>\n",
       "      <td>Medium</td>\n",
       "      <td>44</td>\n",
       "      <td>Press</td>\n",
       "      <td>49</td>\n",
       "      <td>Normal</td>\n",
       "      <td>Cover</td>\n",
       "      <td>2186</td>\n",
       "    </tr>\n",
       "    <tr>\n",
       "      <th>1</th>\n",
       "      <td>2015-10-02 00:00:00</td>\n",
       "      <td>1601</td>\n",
       "      <td>8023</td>\n",
       "      <td>1601</td>\n",
       "      <td>Ruch Chorzów</td>\n",
       "      <td>CHO</td>\n",
       "      <td>0</td>\n",
       "      <td>2</td>\n",
       "      <td>2015-09-10 00:00:00</td>\n",
       "      <td>2016-05-25 00:00:00</td>\n",
       "      <td>...</td>\n",
       "      <td>Normal</td>\n",
       "      <td>Organised</td>\n",
       "      <td>43</td>\n",
       "      <td>Medium</td>\n",
       "      <td>44</td>\n",
       "      <td>Press</td>\n",
       "      <td>49</td>\n",
       "      <td>Normal</td>\n",
       "      <td>Cover</td>\n",
       "      <td>8023</td>\n",
       "    </tr>\n",
       "    <tr>\n",
       "      <th>3</th>\n",
       "      <td>2015-10-23 00:00:00</td>\n",
       "      <td>1601</td>\n",
       "      <td>8025</td>\n",
       "      <td>1601</td>\n",
       "      <td>Ruch Chorzów</td>\n",
       "      <td>CHO</td>\n",
       "      <td>1</td>\n",
       "      <td>0</td>\n",
       "      <td>2015-09-10 00:00:00</td>\n",
       "      <td>2016-05-25 00:00:00</td>\n",
       "      <td>...</td>\n",
       "      <td>Normal</td>\n",
       "      <td>Organised</td>\n",
       "      <td>43</td>\n",
       "      <td>Medium</td>\n",
       "      <td>44</td>\n",
       "      <td>Press</td>\n",
       "      <td>49</td>\n",
       "      <td>Normal</td>\n",
       "      <td>Cover</td>\n",
       "      <td>1601</td>\n",
       "    </tr>\n",
       "    <tr>\n",
       "      <th>5</th>\n",
       "      <td>2015-11-07 00:00:00</td>\n",
       "      <td>1601</td>\n",
       "      <td>8030</td>\n",
       "      <td>1601</td>\n",
       "      <td>Ruch Chorzów</td>\n",
       "      <td>CHO</td>\n",
       "      <td>3</td>\n",
       "      <td>2</td>\n",
       "      <td>2015-09-10 00:00:00</td>\n",
       "      <td>2016-05-25 00:00:00</td>\n",
       "      <td>...</td>\n",
       "      <td>Normal</td>\n",
       "      <td>Organised</td>\n",
       "      <td>43</td>\n",
       "      <td>Medium</td>\n",
       "      <td>44</td>\n",
       "      <td>Press</td>\n",
       "      <td>49</td>\n",
       "      <td>Normal</td>\n",
       "      <td>Cover</td>\n",
       "      <td>1601</td>\n",
       "    </tr>\n",
       "    <tr>\n",
       "      <th>6</th>\n",
       "      <td>2015-11-21 00:00:00</td>\n",
       "      <td>8019</td>\n",
       "      <td>1601</td>\n",
       "      <td>1601</td>\n",
       "      <td>Ruch Chorzów</td>\n",
       "      <td>CHO</td>\n",
       "      <td>0</td>\n",
       "      <td>3</td>\n",
       "      <td>2015-09-10 00:00:00</td>\n",
       "      <td>2016-05-25 00:00:00</td>\n",
       "      <td>...</td>\n",
       "      <td>Normal</td>\n",
       "      <td>Organised</td>\n",
       "      <td>43</td>\n",
       "      <td>Medium</td>\n",
       "      <td>44</td>\n",
       "      <td>Press</td>\n",
       "      <td>49</td>\n",
       "      <td>Normal</td>\n",
       "      <td>Cover</td>\n",
       "      <td>1601</td>\n",
       "    </tr>\n",
       "  </tbody>\n",
       "</table>\n",
       "<p>5 rows × 32 columns</p>\n",
       "</div>"
      ],
      "text/plain": [
       "              match_dt  home_team_api_id  away_team_api_id  team_api_id  \\\n",
       "0  2015-09-26 00:00:00              2186              1601         1601   \n",
       "1  2015-10-02 00:00:00              1601              8023         1601   \n",
       "3  2015-10-23 00:00:00              1601              8025         1601   \n",
       "5  2015-11-07 00:00:00              1601              8030         1601   \n",
       "6  2015-11-21 00:00:00              8019              1601         1601   \n",
       "\n",
       "  team_long_name team_short_name  home_team_goal  away_team_goal  \\\n",
       "0   Ruch Chorzów             CHO               2               1   \n",
       "1   Ruch Chorzów             CHO               0               2   \n",
       "3   Ruch Chorzów             CHO               1               0   \n",
       "5   Ruch Chorzów             CHO               3               2   \n",
       "6   Ruch Chorzów             CHO               0               3   \n",
       "\n",
       "       t_attr_start_dt        t_attr_end_dt     ...       cc_shooting_class  \\\n",
       "0  2015-09-10 00:00:00  2016-05-25 00:00:00     ...                  Normal   \n",
       "1  2015-09-10 00:00:00  2016-05-25 00:00:00     ...                  Normal   \n",
       "3  2015-09-10 00:00:00  2016-05-25 00:00:00     ...                  Normal   \n",
       "5  2015-09-10 00:00:00  2016-05-25 00:00:00     ...                  Normal   \n",
       "6  2015-09-10 00:00:00  2016-05-25 00:00:00     ...                  Normal   \n",
       "\n",
       "  cc_positioning_class  defence_pressure defence_pressure_class  \\\n",
       "0            Organised                43                 Medium   \n",
       "1            Organised                43                 Medium   \n",
       "3            Organised                43                 Medium   \n",
       "5            Organised                43                 Medium   \n",
       "6            Organised                43                 Medium   \n",
       "\n",
       "   defence_aggression defence_agression_class defence_team_width  \\\n",
       "0                  44                   Press                 49   \n",
       "1                  44                   Press                 49   \n",
       "3                  44                   Press                 49   \n",
       "5                  44                   Press                 49   \n",
       "6                  44                   Press                 49   \n",
       "\n",
       "   defence_team_width_class defence_line_class  win_team_id  \n",
       "0                    Normal              Cover         2186  \n",
       "1                    Normal              Cover         8023  \n",
       "3                    Normal              Cover         1601  \n",
       "5                    Normal              Cover         1601  \n",
       "6                    Normal              Cover         1601  \n",
       "\n",
       "[5 rows x 32 columns]"
      ]
     },
     "execution_count": 28,
     "metadata": {},
     "output_type": "execute_result"
    }
   ],
   "source": [
    "df_match_no_draw.head()"
   ]
  },
  {
   "cell_type": "code",
   "execution_count": 29,
   "metadata": {},
   "outputs": [],
   "source": [
    "# Filter the teams attributes for the team that won\n",
    "df_win_team = df_match_no_draw.query('team_api_id == win_team_id')"
   ]
  },
  {
   "cell_type": "code",
   "execution_count": 30,
   "metadata": {},
   "outputs": [
    {
     "data": {
      "text/plain": [
       "(15010, 32)"
      ]
     },
     "execution_count": 30,
     "metadata": {},
     "output_type": "execute_result"
    }
   ],
   "source": [
    "df_win_team.shape"
   ]
  },
  {
   "cell_type": "markdown",
   "metadata": {},
   "source": [
    "There are **15,010 matches** that resulted in a win"
   ]
  },
  {
   "cell_type": "code",
   "execution_count": 31,
   "metadata": {},
   "outputs": [
    {
     "data": {
      "text/html": [
       "<div>\n",
       "<style scoped>\n",
       "    .dataframe tbody tr th:only-of-type {\n",
       "        vertical-align: middle;\n",
       "    }\n",
       "\n",
       "    .dataframe tbody tr th {\n",
       "        vertical-align: top;\n",
       "    }\n",
       "\n",
       "    .dataframe thead th {\n",
       "        text-align: right;\n",
       "    }\n",
       "</style>\n",
       "<table border=\"1\" class=\"dataframe\">\n",
       "  <thead>\n",
       "    <tr style=\"text-align: right;\">\n",
       "      <th></th>\n",
       "      <th>match_dt</th>\n",
       "      <th>home_team_api_id</th>\n",
       "      <th>away_team_api_id</th>\n",
       "      <th>team_api_id</th>\n",
       "      <th>team_long_name</th>\n",
       "      <th>team_short_name</th>\n",
       "      <th>home_team_goal</th>\n",
       "      <th>away_team_goal</th>\n",
       "      <th>t_attr_start_dt</th>\n",
       "      <th>t_attr_end_dt</th>\n",
       "      <th>...</th>\n",
       "      <th>cc_shooting_class</th>\n",
       "      <th>cc_positioning_class</th>\n",
       "      <th>defence_pressure</th>\n",
       "      <th>defence_pressure_class</th>\n",
       "      <th>defence_aggression</th>\n",
       "      <th>defence_agression_class</th>\n",
       "      <th>defence_team_width</th>\n",
       "      <th>defence_team_width_class</th>\n",
       "      <th>defence_line_class</th>\n",
       "      <th>win_team_id</th>\n",
       "    </tr>\n",
       "  </thead>\n",
       "  <tbody>\n",
       "    <tr>\n",
       "      <th>3</th>\n",
       "      <td>2015-10-23 00:00:00</td>\n",
       "      <td>1601</td>\n",
       "      <td>8025</td>\n",
       "      <td>1601</td>\n",
       "      <td>Ruch Chorzów</td>\n",
       "      <td>CHO</td>\n",
       "      <td>1</td>\n",
       "      <td>0</td>\n",
       "      <td>2015-09-10 00:00:00</td>\n",
       "      <td>2016-05-25 00:00:00</td>\n",
       "      <td>...</td>\n",
       "      <td>Normal</td>\n",
       "      <td>Organised</td>\n",
       "      <td>43</td>\n",
       "      <td>Medium</td>\n",
       "      <td>44</td>\n",
       "      <td>Press</td>\n",
       "      <td>49</td>\n",
       "      <td>Normal</td>\n",
       "      <td>Cover</td>\n",
       "      <td>1601</td>\n",
       "    </tr>\n",
       "    <tr>\n",
       "      <th>5</th>\n",
       "      <td>2015-11-07 00:00:00</td>\n",
       "      <td>1601</td>\n",
       "      <td>8030</td>\n",
       "      <td>1601</td>\n",
       "      <td>Ruch Chorzów</td>\n",
       "      <td>CHO</td>\n",
       "      <td>3</td>\n",
       "      <td>2</td>\n",
       "      <td>2015-09-10 00:00:00</td>\n",
       "      <td>2016-05-25 00:00:00</td>\n",
       "      <td>...</td>\n",
       "      <td>Normal</td>\n",
       "      <td>Organised</td>\n",
       "      <td>43</td>\n",
       "      <td>Medium</td>\n",
       "      <td>44</td>\n",
       "      <td>Press</td>\n",
       "      <td>49</td>\n",
       "      <td>Normal</td>\n",
       "      <td>Cover</td>\n",
       "      <td>1601</td>\n",
       "    </tr>\n",
       "    <tr>\n",
       "      <th>6</th>\n",
       "      <td>2015-11-21 00:00:00</td>\n",
       "      <td>8019</td>\n",
       "      <td>1601</td>\n",
       "      <td>1601</td>\n",
       "      <td>Ruch Chorzów</td>\n",
       "      <td>CHO</td>\n",
       "      <td>0</td>\n",
       "      <td>3</td>\n",
       "      <td>2015-09-10 00:00:00</td>\n",
       "      <td>2016-05-25 00:00:00</td>\n",
       "      <td>...</td>\n",
       "      <td>Normal</td>\n",
       "      <td>Organised</td>\n",
       "      <td>43</td>\n",
       "      <td>Medium</td>\n",
       "      <td>44</td>\n",
       "      <td>Press</td>\n",
       "      <td>49</td>\n",
       "      <td>Normal</td>\n",
       "      <td>Cover</td>\n",
       "      <td>1601</td>\n",
       "    </tr>\n",
       "    <tr>\n",
       "      <th>8</th>\n",
       "      <td>2015-12-01 00:00:00</td>\n",
       "      <td>1601</td>\n",
       "      <td>8245</td>\n",
       "      <td>1601</td>\n",
       "      <td>Ruch Chorzów</td>\n",
       "      <td>CHO</td>\n",
       "      <td>2</td>\n",
       "      <td>1</td>\n",
       "      <td>2015-09-10 00:00:00</td>\n",
       "      <td>2016-05-25 00:00:00</td>\n",
       "      <td>...</td>\n",
       "      <td>Normal</td>\n",
       "      <td>Organised</td>\n",
       "      <td>43</td>\n",
       "      <td>Medium</td>\n",
       "      <td>44</td>\n",
       "      <td>Press</td>\n",
       "      <td>49</td>\n",
       "      <td>Normal</td>\n",
       "      <td>Cover</td>\n",
       "      <td>1601</td>\n",
       "    </tr>\n",
       "    <tr>\n",
       "      <th>11</th>\n",
       "      <td>2015-12-19 00:00:00</td>\n",
       "      <td>177361</td>\n",
       "      <td>1601</td>\n",
       "      <td>1601</td>\n",
       "      <td>Ruch Chorzów</td>\n",
       "      <td>CHO</td>\n",
       "      <td>0</td>\n",
       "      <td>1</td>\n",
       "      <td>2015-09-10 00:00:00</td>\n",
       "      <td>2016-05-25 00:00:00</td>\n",
       "      <td>...</td>\n",
       "      <td>Normal</td>\n",
       "      <td>Organised</td>\n",
       "      <td>43</td>\n",
       "      <td>Medium</td>\n",
       "      <td>44</td>\n",
       "      <td>Press</td>\n",
       "      <td>49</td>\n",
       "      <td>Normal</td>\n",
       "      <td>Cover</td>\n",
       "      <td>1601</td>\n",
       "    </tr>\n",
       "  </tbody>\n",
       "</table>\n",
       "<p>5 rows × 32 columns</p>\n",
       "</div>"
      ],
      "text/plain": [
       "               match_dt  home_team_api_id  away_team_api_id  team_api_id  \\\n",
       "3   2015-10-23 00:00:00              1601              8025         1601   \n",
       "5   2015-11-07 00:00:00              1601              8030         1601   \n",
       "6   2015-11-21 00:00:00              8019              1601         1601   \n",
       "8   2015-12-01 00:00:00              1601              8245         1601   \n",
       "11  2015-12-19 00:00:00            177361              1601         1601   \n",
       "\n",
       "   team_long_name team_short_name  home_team_goal  away_team_goal  \\\n",
       "3    Ruch Chorzów             CHO               1               0   \n",
       "5    Ruch Chorzów             CHO               3               2   \n",
       "6    Ruch Chorzów             CHO               0               3   \n",
       "8    Ruch Chorzów             CHO               2               1   \n",
       "11   Ruch Chorzów             CHO               0               1   \n",
       "\n",
       "        t_attr_start_dt        t_attr_end_dt     ...       cc_shooting_class  \\\n",
       "3   2015-09-10 00:00:00  2016-05-25 00:00:00     ...                  Normal   \n",
       "5   2015-09-10 00:00:00  2016-05-25 00:00:00     ...                  Normal   \n",
       "6   2015-09-10 00:00:00  2016-05-25 00:00:00     ...                  Normal   \n",
       "8   2015-09-10 00:00:00  2016-05-25 00:00:00     ...                  Normal   \n",
       "11  2015-09-10 00:00:00  2016-05-25 00:00:00     ...                  Normal   \n",
       "\n",
       "   cc_positioning_class  defence_pressure defence_pressure_class  \\\n",
       "3             Organised                43                 Medium   \n",
       "5             Organised                43                 Medium   \n",
       "6             Organised                43                 Medium   \n",
       "8             Organised                43                 Medium   \n",
       "11            Organised                43                 Medium   \n",
       "\n",
       "    defence_aggression defence_agression_class defence_team_width  \\\n",
       "3                   44                   Press                 49   \n",
       "5                   44                   Press                 49   \n",
       "6                   44                   Press                 49   \n",
       "8                   44                   Press                 49   \n",
       "11                  44                   Press                 49   \n",
       "\n",
       "    defence_team_width_class defence_line_class  win_team_id  \n",
       "3                     Normal              Cover         1601  \n",
       "5                     Normal              Cover         1601  \n",
       "6                     Normal              Cover         1601  \n",
       "8                     Normal              Cover         1601  \n",
       "11                    Normal              Cover         1601  \n",
       "\n",
       "[5 rows x 32 columns]"
      ]
     },
     "execution_count": 31,
     "metadata": {},
     "output_type": "execute_result"
    }
   ],
   "source": [
    "df_win_team.head()"
   ]
  },
  {
   "cell_type": "code",
   "execution_count": 32,
   "metadata": {},
   "outputs": [],
   "source": [
    "# Count the number of wins for each team and sort in decending order\n",
    "df_num_wins=df_win_team.groupby(['team_long_name'])['win_team_id'].count().sort_values(ascending=False)"
   ]
  },
  {
   "cell_type": "code",
   "execution_count": 33,
   "metadata": {},
   "outputs": [],
   "source": [
    "# Top Ten Soccer Teams\n",
    "top_10 = df_num_wins.head(10)"
   ]
  },
  {
   "cell_type": "code",
   "execution_count": 34,
   "metadata": {},
   "outputs": [
    {
     "data": {
      "text/plain": [
       "team_long_name\n",
       "FC Barcelona           189\n",
       "Real Madrid CF         185\n",
       "Celtic                 180\n",
       "FC Bayern Munich       159\n",
       "Juventus               156\n",
       "SL Benfica             153\n",
       "FC Porto               149\n",
       "Manchester City        148\n",
       "Paris Saint-Germain    147\n",
       "Manchester United      146\n",
       "Name: win_team_id, dtype: int64"
      ]
     },
     "execution_count": 34,
     "metadata": {},
     "output_type": "execute_result"
    }
   ],
   "source": [
    "top_10"
   ]
  },
  {
   "cell_type": "markdown",
   "metadata": {},
   "source": [
    "\n",
    "The **Top 10** European Soccer teams with the most wins are:\n",
    "\n",
    "FC Barcelona, Real Madrid CF, Celtic, FC Bayern Munich, Juventus, SL Benfica, FC Porto, Manchester City, Paris, Saint-Germain, Manchester United     "
   ]
  },
  {
   "cell_type": "code",
   "execution_count": 35,
   "metadata": {},
   "outputs": [
    {
     "data": {
      "text/plain": [
       "'FC Barcelona'"
      ]
     },
     "execution_count": 35,
     "metadata": {},
     "output_type": "execute_result"
    }
   ],
   "source": [
    "df_num_wins.idxmax()"
   ]
  },
  {
   "cell_type": "code",
   "execution_count": 36,
   "metadata": {},
   "outputs": [
    {
     "data": {
      "image/png": "[encoded data removed]",
      "text/plain": [
       "<Figure size 432x288 with 1 Axes>"
      ]
     },
     "metadata": {
      "needs_background": "light"
     },
     "output_type": "display_data"
    }
   ],
   "source": [
    "# Plot a bar chart showing the Top 10 Soccer Teams\n",
    "top_10.plot(kind='bar');\n",
    "plt.title('Top 10 Winning Soccer Teams')\n",
    "plt.xlabel('Team Name')\n",
    "plt.ylabel('Total Wins');"
   ]
  },
  {
   "cell_type": "markdown",
   "metadata": {},
   "source": [
    "### Question 2  : What team attributes contribute to the most wins?"
   ]
  },
  {
   "cell_type": "code",
   "execution_count": 37,
   "metadata": {
    "scrolled": false
   },
   "outputs": [
    {
     "data": {
      "text/plain": [
       "win_team_id  team_long_name           t_attr_start_dt      t_attr_end_dt      \n",
       "1601         Ruch Chorzów             2010-02-22 00:00:00  2011-02-22 00:00:00    10\n",
       "                                      2011-02-22 00:00:00  2012-02-22 00:00:00    15\n",
       "                                      2012-02-22 00:00:00  2013-09-20 00:00:00    16\n",
       "                                      2013-09-20 00:00:00  2014-09-19 00:00:00    14\n",
       "                                      2014-09-19 00:00:00  2015-09-10 00:00:00    10\n",
       "                                      2015-09-10 00:00:00  2016-05-25 00:00:00     8\n",
       "1773         Oud-Heverlee Leuven      2012-02-22 00:00:00  2013-09-20 00:00:00     9\n",
       "                                      2014-09-19 00:00:00  2016-05-25 00:00:00     7\n",
       "1957         Jagiellonia Białystok    2010-02-22 00:00:00  2011-02-22 00:00:00    14\n",
       "                                      2011-02-22 00:00:00  2012-02-22 00:00:00    11\n",
       "                                      2012-02-22 00:00:00  2013-09-20 00:00:00    17\n",
       "                                      2013-09-20 00:00:00  2014-09-19 00:00:00    10\n",
       "                                      2014-09-19 00:00:00  2015-09-10 00:00:00    13\n",
       "                                      2015-09-10 00:00:00  2016-05-25 00:00:00     7\n",
       "2033         S.C. Olhanense           2010-02-22 00:00:00  2011-02-22 00:00:00     8\n",
       "                                      2011-02-22 00:00:00  2012-02-22 00:00:00     6\n",
       "                                      2012-02-22 00:00:00  2013-09-20 00:00:00    10\n",
       "                                      2013-09-20 00:00:00  2014-09-19 00:00:00     5\n",
       "2182         Lech Poznań              2010-02-22 00:00:00  2011-02-22 00:00:00    15\n",
       "                                      2011-02-22 00:00:00  2012-02-22 00:00:00    16\n",
       "                                      2012-02-22 00:00:00  2013-09-20 00:00:00    28\n",
       "                                      2013-09-20 00:00:00  2014-09-19 00:00:00    15\n",
       "                                      2014-09-19 00:00:00  2015-09-10 00:00:00    13\n",
       "                                      2015-09-10 00:00:00  2016-05-25 00:00:00    12\n",
       "2183         P. Warszawa              2010-02-22 00:00:00  2011-02-22 00:00:00    10\n",
       "                                      2011-02-22 00:00:00  2012-02-22 00:00:00    17\n",
       "                                      2012-02-22 00:00:00  2013-09-20 00:00:00    14\n",
       "2186         Cracovia                 2010-02-22 00:00:00  2011-02-22 00:00:00     6\n",
       "                                      2011-02-22 00:00:00  2012-02-22 00:00:00     9\n",
       "                                      2012-02-22 00:00:00  2014-09-19 00:00:00    14\n",
       "                                                                                  ..\n",
       "10265        Wisła Kraków             2011-02-22 00:00:00  2012-02-22 00:00:00    17\n",
       "                                      2012-02-22 00:00:00  2013-09-20 00:00:00    17\n",
       "                                      2013-09-20 00:00:00  2014-09-19 00:00:00    14\n",
       "                                      2014-09-19 00:00:00  2015-09-10 00:00:00     8\n",
       "                                      2015-09-10 00:00:00  2016-05-25 00:00:00     6\n",
       "10267        Valencia CF              2010-02-22 00:00:00  2011-02-22 00:00:00    23\n",
       "                                      2011-02-22 00:00:00  2012-02-22 00:00:00    18\n",
       "                                      2012-02-22 00:00:00  2013-09-20 00:00:00    26\n",
       "                                      2013-09-20 00:00:00  2014-09-19 00:00:00    14\n",
       "                                      2014-09-19 00:00:00  2015-09-10 00:00:00    20\n",
       "                                      2015-09-10 00:00:00  2016-05-25 00:00:00    11\n",
       "10268        Elche CF                 2013-09-20 00:00:00  2014-09-19 00:00:00    10\n",
       "                                      2014-09-19 00:00:00  2015-09-10 00:00:00    10\n",
       "10269        VfB Stuttgart            2010-02-22 00:00:00  2011-02-22 00:00:00    12\n",
       "                                      2011-02-22 00:00:00  2012-02-22 00:00:00    14\n",
       "                                      2012-02-22 00:00:00  2013-09-20 00:00:00    22\n",
       "                                      2013-09-20 00:00:00  2014-09-19 00:00:00     6\n",
       "                                      2014-09-19 00:00:00  2015-09-10 00:00:00     9\n",
       "                                      2015-09-10 00:00:00  2016-05-25 00:00:00     9\n",
       "10278        Hércules Club de Fútbol  2010-02-22 00:00:00  2011-02-22 00:00:00     7\n",
       "                                      2011-02-22 00:00:00  2012-02-22 00:00:00     2\n",
       "10281        Real Valladolid          2010-02-22 00:00:00  2011-02-22 00:00:00     4\n",
       "                                      2012-02-22 00:00:00  2013-09-20 00:00:00    12\n",
       "                                      2013-09-20 00:00:00  2014-09-19 00:00:00     6\n",
       "108893       AC Arles-Avignon         2010-02-22 00:00:00  2011-02-22 00:00:00     1\n",
       "                                      2011-02-22 00:00:00  2012-02-22 00:00:00     2\n",
       "158085       FC Arouca                2014-09-19 00:00:00  2015-09-10 00:00:00     8\n",
       "                                      2015-09-10 00:00:00  2016-05-25 00:00:00    11\n",
       "208931       Carpi                    2015-09-10 00:00:00  2016-05-25 00:00:00     9\n",
       "274581       Royal Excel Mouscron     2015-09-10 00:00:00  2016-05-25 00:00:00     7\n",
       "Name: win_team_id, Length: 1146, dtype: int64"
      ]
     },
     "execution_count": 37,
     "metadata": {},
     "output_type": "execute_result"
    }
   ],
   "source": [
    "# Count the number of wins for an attribute period\n",
    "df_win_team.groupby(['win_team_id','team_long_name','t_attr_start_dt','t_attr_end_dt'])['win_team_id'].count()"
   ]
  },
  {
   "cell_type": "markdown",
   "metadata": {},
   "source": [
    "This shows the number of wins a team had with during a given team attribute start and end time"
   ]
  },
  {
   "cell_type": "code",
   "execution_count": 38,
   "metadata": {},
   "outputs": [
    {
     "name": "stderr",
     "output_type": "stream",
     "text": [
      "/root/anaconda3/lib/python3.7/site-packages/ipykernel_launcher.py:1: SettingWithCopyWarning: \n",
      "A value is trying to be set on a copy of a slice from a DataFrame.\n",
      "Try using .loc[row_indexer,col_indexer] = value instead\n",
      "\n",
      "See the caveats in the documentation: http://pandas.pydata.org/pandas-docs/stable/indexing.html#indexing-view-versus-copy\n",
      "  \"\"\"Entry point for launching an IPython kernel.\n"
     ]
    }
   ],
   "source": [
    "df_win_team['wins_by_attribute_period'] = df_win_team.groupby(['win_team_id','t_attr_start_dt','t_attr_end_dt'])['win_team_id'].transform(\"size\")"
   ]
  },
  {
   "cell_type": "code",
   "execution_count": 39,
   "metadata": {
    "scrolled": true
   },
   "outputs": [
    {
     "data": {
      "text/html": [
       "<div>\n",
       "<style scoped>\n",
       "    .dataframe tbody tr th:only-of-type {\n",
       "        vertical-align: middle;\n",
       "    }\n",
       "\n",
       "    .dataframe tbody tr th {\n",
       "        vertical-align: top;\n",
       "    }\n",
       "\n",
       "    .dataframe thead th {\n",
       "        text-align: right;\n",
       "    }\n",
       "</style>\n",
       "<table border=\"1\" class=\"dataframe\">\n",
       "  <thead>\n",
       "    <tr style=\"text-align: right;\">\n",
       "      <th></th>\n",
       "      <th>match_dt</th>\n",
       "      <th>home_team_api_id</th>\n",
       "      <th>away_team_api_id</th>\n",
       "      <th>team_api_id</th>\n",
       "      <th>team_long_name</th>\n",
       "      <th>team_short_name</th>\n",
       "      <th>home_team_goal</th>\n",
       "      <th>away_team_goal</th>\n",
       "      <th>t_attr_start_dt</th>\n",
       "      <th>t_attr_end_dt</th>\n",
       "      <th>...</th>\n",
       "      <th>cc_positioning_class</th>\n",
       "      <th>defence_pressure</th>\n",
       "      <th>defence_pressure_class</th>\n",
       "      <th>defence_aggression</th>\n",
       "      <th>defence_agression_class</th>\n",
       "      <th>defence_team_width</th>\n",
       "      <th>defence_team_width_class</th>\n",
       "      <th>defence_line_class</th>\n",
       "      <th>win_team_id</th>\n",
       "      <th>wins_by_attribute_period</th>\n",
       "    </tr>\n",
       "  </thead>\n",
       "  <tbody>\n",
       "    <tr>\n",
       "      <th>3</th>\n",
       "      <td>2015-10-23 00:00:00</td>\n",
       "      <td>1601</td>\n",
       "      <td>8025</td>\n",
       "      <td>1601</td>\n",
       "      <td>Ruch Chorzów</td>\n",
       "      <td>CHO</td>\n",
       "      <td>1</td>\n",
       "      <td>0</td>\n",
       "      <td>2015-09-10 00:00:00</td>\n",
       "      <td>2016-05-25 00:00:00</td>\n",
       "      <td>...</td>\n",
       "      <td>Organised</td>\n",
       "      <td>43</td>\n",
       "      <td>Medium</td>\n",
       "      <td>44</td>\n",
       "      <td>Press</td>\n",
       "      <td>49</td>\n",
       "      <td>Normal</td>\n",
       "      <td>Cover</td>\n",
       "      <td>1601</td>\n",
       "      <td>8</td>\n",
       "    </tr>\n",
       "    <tr>\n",
       "      <th>5</th>\n",
       "      <td>2015-11-07 00:00:00</td>\n",
       "      <td>1601</td>\n",
       "      <td>8030</td>\n",
       "      <td>1601</td>\n",
       "      <td>Ruch Chorzów</td>\n",
       "      <td>CHO</td>\n",
       "      <td>3</td>\n",
       "      <td>2</td>\n",
       "      <td>2015-09-10 00:00:00</td>\n",
       "      <td>2016-05-25 00:00:00</td>\n",
       "      <td>...</td>\n",
       "      <td>Organised</td>\n",
       "      <td>43</td>\n",
       "      <td>Medium</td>\n",
       "      <td>44</td>\n",
       "      <td>Press</td>\n",
       "      <td>49</td>\n",
       "      <td>Normal</td>\n",
       "      <td>Cover</td>\n",
       "      <td>1601</td>\n",
       "      <td>8</td>\n",
       "    </tr>\n",
       "    <tr>\n",
       "      <th>6</th>\n",
       "      <td>2015-11-21 00:00:00</td>\n",
       "      <td>8019</td>\n",
       "      <td>1601</td>\n",
       "      <td>1601</td>\n",
       "      <td>Ruch Chorzów</td>\n",
       "      <td>CHO</td>\n",
       "      <td>0</td>\n",
       "      <td>3</td>\n",
       "      <td>2015-09-10 00:00:00</td>\n",
       "      <td>2016-05-25 00:00:00</td>\n",
       "      <td>...</td>\n",
       "      <td>Organised</td>\n",
       "      <td>43</td>\n",
       "      <td>Medium</td>\n",
       "      <td>44</td>\n",
       "      <td>Press</td>\n",
       "      <td>49</td>\n",
       "      <td>Normal</td>\n",
       "      <td>Cover</td>\n",
       "      <td>1601</td>\n",
       "      <td>8</td>\n",
       "    </tr>\n",
       "    <tr>\n",
       "      <th>8</th>\n",
       "      <td>2015-12-01 00:00:00</td>\n",
       "      <td>1601</td>\n",
       "      <td>8245</td>\n",
       "      <td>1601</td>\n",
       "      <td>Ruch Chorzów</td>\n",
       "      <td>CHO</td>\n",
       "      <td>2</td>\n",
       "      <td>1</td>\n",
       "      <td>2015-09-10 00:00:00</td>\n",
       "      <td>2016-05-25 00:00:00</td>\n",
       "      <td>...</td>\n",
       "      <td>Organised</td>\n",
       "      <td>43</td>\n",
       "      <td>Medium</td>\n",
       "      <td>44</td>\n",
       "      <td>Press</td>\n",
       "      <td>49</td>\n",
       "      <td>Normal</td>\n",
       "      <td>Cover</td>\n",
       "      <td>1601</td>\n",
       "      <td>8</td>\n",
       "    </tr>\n",
       "    <tr>\n",
       "      <th>11</th>\n",
       "      <td>2015-12-19 00:00:00</td>\n",
       "      <td>177361</td>\n",
       "      <td>1601</td>\n",
       "      <td>1601</td>\n",
       "      <td>Ruch Chorzów</td>\n",
       "      <td>CHO</td>\n",
       "      <td>0</td>\n",
       "      <td>1</td>\n",
       "      <td>2015-09-10 00:00:00</td>\n",
       "      <td>2016-05-25 00:00:00</td>\n",
       "      <td>...</td>\n",
       "      <td>Organised</td>\n",
       "      <td>43</td>\n",
       "      <td>Medium</td>\n",
       "      <td>44</td>\n",
       "      <td>Press</td>\n",
       "      <td>49</td>\n",
       "      <td>Normal</td>\n",
       "      <td>Cover</td>\n",
       "      <td>1601</td>\n",
       "      <td>8</td>\n",
       "    </tr>\n",
       "  </tbody>\n",
       "</table>\n",
       "<p>5 rows × 33 columns</p>\n",
       "</div>"
      ],
      "text/plain": [
       "               match_dt  home_team_api_id  away_team_api_id  team_api_id  \\\n",
       "3   2015-10-23 00:00:00              1601              8025         1601   \n",
       "5   2015-11-07 00:00:00              1601              8030         1601   \n",
       "6   2015-11-21 00:00:00              8019              1601         1601   \n",
       "8   2015-12-01 00:00:00              1601              8245         1601   \n",
       "11  2015-12-19 00:00:00            177361              1601         1601   \n",
       "\n",
       "   team_long_name team_short_name  home_team_goal  away_team_goal  \\\n",
       "3    Ruch Chorzów             CHO               1               0   \n",
       "5    Ruch Chorzów             CHO               3               2   \n",
       "6    Ruch Chorzów             CHO               0               3   \n",
       "8    Ruch Chorzów             CHO               2               1   \n",
       "11   Ruch Chorzów             CHO               0               1   \n",
       "\n",
       "        t_attr_start_dt        t_attr_end_dt            ...             \\\n",
       "3   2015-09-10 00:00:00  2016-05-25 00:00:00            ...              \n",
       "5   2015-09-10 00:00:00  2016-05-25 00:00:00            ...              \n",
       "6   2015-09-10 00:00:00  2016-05-25 00:00:00            ...              \n",
       "8   2015-09-10 00:00:00  2016-05-25 00:00:00            ...              \n",
       "11  2015-09-10 00:00:00  2016-05-25 00:00:00            ...              \n",
       "\n",
       "    cc_positioning_class defence_pressure  defence_pressure_class  \\\n",
       "3              Organised               43                  Medium   \n",
       "5              Organised               43                  Medium   \n",
       "6              Organised               43                  Medium   \n",
       "8              Organised               43                  Medium   \n",
       "11             Organised               43                  Medium   \n",
       "\n",
       "   defence_aggression  defence_agression_class defence_team_width  \\\n",
       "3                  44                    Press                 49   \n",
       "5                  44                    Press                 49   \n",
       "6                  44                    Press                 49   \n",
       "8                  44                    Press                 49   \n",
       "11                 44                    Press                 49   \n",
       "\n",
       "   defence_team_width_class  defence_line_class win_team_id  \\\n",
       "3                    Normal               Cover        1601   \n",
       "5                    Normal               Cover        1601   \n",
       "6                    Normal               Cover        1601   \n",
       "8                    Normal               Cover        1601   \n",
       "11                   Normal               Cover        1601   \n",
       "\n",
       "    wins_by_attribute_period  \n",
       "3                          8  \n",
       "5                          8  \n",
       "6                          8  \n",
       "8                          8  \n",
       "11                         8  \n",
       "\n",
       "[5 rows x 33 columns]"
      ]
     },
     "execution_count": 39,
     "metadata": {},
     "output_type": "execute_result"
    }
   ],
   "source": [
    "df_win_team.head()"
   ]
  },
  {
   "cell_type": "code",
   "execution_count": 40,
   "metadata": {},
   "outputs": [
    {
     "name": "stderr",
     "output_type": "stream",
     "text": [
      "/root/anaconda3/lib/python3.7/site-packages/pandas/core/frame.py:3697: SettingWithCopyWarning: \n",
      "A value is trying to be set on a copy of a slice from a DataFrame\n",
      "\n",
      "See the caveats in the documentation: http://pandas.pydata.org/pandas-docs/stable/indexing.html#indexing-view-versus-copy\n",
      "  errors=errors)\n"
     ]
    }
   ],
   "source": [
    "df_win_team.drop(['match_dt','home_team_api_id','away_team_api_id','team_api_id','home_team_goal','away_team_goal'],axis=1, inplace=True)"
   ]
  },
  {
   "cell_type": "markdown",
   "metadata": {},
   "source": [
    "Remove the columns that are no longer necessary: **match_dt, home_team_api_id, away_team_api_id, team_api_id, home_team_goal and away_team_goal**"
   ]
  },
  {
   "cell_type": "code",
   "execution_count": 41,
   "metadata": {},
   "outputs": [
    {
     "data": {
      "text/plain": [
       "13864"
      ]
     },
     "execution_count": 41,
     "metadata": {},
     "output_type": "execute_result"
    }
   ],
   "source": [
    "df_win_team.duplicated().sum()"
   ]
  },
  {
   "cell_type": "markdown",
   "metadata": {},
   "source": [
    "There are **13,864** duplicate records for winning matches. "
   ]
  },
  {
   "cell_type": "code",
   "execution_count": 42,
   "metadata": {},
   "outputs": [
    {
     "name": "stderr",
     "output_type": "stream",
     "text": [
      "/root/anaconda3/lib/python3.7/site-packages/ipykernel_launcher.py:1: SettingWithCopyWarning: \n",
      "A value is trying to be set on a copy of a slice from a DataFrame\n",
      "\n",
      "See the caveats in the documentation: http://pandas.pydata.org/pandas-docs/stable/indexing.html#indexing-view-versus-copy\n",
      "  \"\"\"Entry point for launching an IPython kernel.\n"
     ]
    }
   ],
   "source": [
    "df_win_team.drop_duplicates(inplace=True)"
   ]
  },
  {
   "cell_type": "markdown",
   "metadata": {},
   "source": [
    "Drop the duplicates from the data frane"
   ]
  },
  {
   "cell_type": "code",
   "execution_count": 43,
   "metadata": {},
   "outputs": [
    {
     "data": {
      "text/plain": [
       "0"
      ]
     },
     "execution_count": 43,
     "metadata": {},
     "output_type": "execute_result"
    }
   ],
   "source": [
    "df_win_team.duplicated().sum()"
   ]
  },
  {
   "cell_type": "markdown",
   "metadata": {},
   "source": [
    "There are no more duplicates"
   ]
  },
  {
   "cell_type": "code",
   "execution_count": 44,
   "metadata": {},
   "outputs": [
    {
     "data": {
      "text/html": [
       "<div>\n",
       "<style scoped>\n",
       "    .dataframe tbody tr th:only-of-type {\n",
       "        vertical-align: middle;\n",
       "    }\n",
       "\n",
       "    .dataframe tbody tr th {\n",
       "        vertical-align: top;\n",
       "    }\n",
       "\n",
       "    .dataframe thead th {\n",
       "        text-align: right;\n",
       "    }\n",
       "</style>\n",
       "<table border=\"1\" class=\"dataframe\">\n",
       "  <thead>\n",
       "    <tr style=\"text-align: right;\">\n",
       "      <th></th>\n",
       "      <th>team_long_name</th>\n",
       "      <th>team_short_name</th>\n",
       "      <th>t_attr_start_dt</th>\n",
       "      <th>t_attr_end_dt</th>\n",
       "      <th>bu_play_speed</th>\n",
       "      <th>bu_play_speed_class</th>\n",
       "      <th>bu_play_dribbling</th>\n",
       "      <th>bu_play_dribbling_class</th>\n",
       "      <th>bu_play_passing</th>\n",
       "      <th>bu_play_passing_class</th>\n",
       "      <th>...</th>\n",
       "      <th>cc_positioning_class</th>\n",
       "      <th>defence_pressure</th>\n",
       "      <th>defence_pressure_class</th>\n",
       "      <th>defence_aggression</th>\n",
       "      <th>defence_agression_class</th>\n",
       "      <th>defence_team_width</th>\n",
       "      <th>defence_team_width_class</th>\n",
       "      <th>defence_line_class</th>\n",
       "      <th>win_team_id</th>\n",
       "      <th>wins_by_attribute_period</th>\n",
       "    </tr>\n",
       "  </thead>\n",
       "  <tbody>\n",
       "    <tr>\n",
       "      <th>3</th>\n",
       "      <td>Ruch Chorzów</td>\n",
       "      <td>CHO</td>\n",
       "      <td>2015-09-10 00:00:00</td>\n",
       "      <td>2016-05-25 00:00:00</td>\n",
       "      <td>47</td>\n",
       "      <td>Balanced</td>\n",
       "      <td>48.000000</td>\n",
       "      <td>Normal</td>\n",
       "      <td>38</td>\n",
       "      <td>Mixed</td>\n",
       "      <td>...</td>\n",
       "      <td>Organised</td>\n",
       "      <td>43</td>\n",
       "      <td>Medium</td>\n",
       "      <td>44</td>\n",
       "      <td>Press</td>\n",
       "      <td>49</td>\n",
       "      <td>Normal</td>\n",
       "      <td>Cover</td>\n",
       "      <td>1601</td>\n",
       "      <td>8</td>\n",
       "    </tr>\n",
       "    <tr>\n",
       "      <th>28</th>\n",
       "      <td>Ruch Chorzów</td>\n",
       "      <td>CHO</td>\n",
       "      <td>2014-09-19 00:00:00</td>\n",
       "      <td>2015-09-10 00:00:00</td>\n",
       "      <td>53</td>\n",
       "      <td>Balanced</td>\n",
       "      <td>48.000000</td>\n",
       "      <td>Normal</td>\n",
       "      <td>38</td>\n",
       "      <td>Mixed</td>\n",
       "      <td>...</td>\n",
       "      <td>Organised</td>\n",
       "      <td>43</td>\n",
       "      <td>Medium</td>\n",
       "      <td>44</td>\n",
       "      <td>Press</td>\n",
       "      <td>49</td>\n",
       "      <td>Normal</td>\n",
       "      <td>Cover</td>\n",
       "      <td>1601</td>\n",
       "      <td>10</td>\n",
       "    </tr>\n",
       "    <tr>\n",
       "      <th>53</th>\n",
       "      <td>Ruch Chorzów</td>\n",
       "      <td>CHO</td>\n",
       "      <td>2013-09-20 00:00:00</td>\n",
       "      <td>2014-09-19 00:00:00</td>\n",
       "      <td>53</td>\n",
       "      <td>Balanced</td>\n",
       "      <td>30.448598</td>\n",
       "      <td>Little</td>\n",
       "      <td>55</td>\n",
       "      <td>Mixed</td>\n",
       "      <td>...</td>\n",
       "      <td>Organised</td>\n",
       "      <td>43</td>\n",
       "      <td>Medium</td>\n",
       "      <td>44</td>\n",
       "      <td>Press</td>\n",
       "      <td>49</td>\n",
       "      <td>Normal</td>\n",
       "      <td>Cover</td>\n",
       "      <td>1601</td>\n",
       "      <td>14</td>\n",
       "    </tr>\n",
       "    <tr>\n",
       "      <th>83</th>\n",
       "      <td>Ruch Chorzów</td>\n",
       "      <td>CHO</td>\n",
       "      <td>2012-02-22 00:00:00</td>\n",
       "      <td>2013-09-20 00:00:00</td>\n",
       "      <td>53</td>\n",
       "      <td>Balanced</td>\n",
       "      <td>30.448598</td>\n",
       "      <td>Little</td>\n",
       "      <td>55</td>\n",
       "      <td>Mixed</td>\n",
       "      <td>...</td>\n",
       "      <td>Organised</td>\n",
       "      <td>43</td>\n",
       "      <td>Medium</td>\n",
       "      <td>44</td>\n",
       "      <td>Press</td>\n",
       "      <td>49</td>\n",
       "      <td>Normal</td>\n",
       "      <td>Cover</td>\n",
       "      <td>1601</td>\n",
       "      <td>16</td>\n",
       "    </tr>\n",
       "    <tr>\n",
       "      <th>134</th>\n",
       "      <td>Ruch Chorzów</td>\n",
       "      <td>CHO</td>\n",
       "      <td>2011-02-22 00:00:00</td>\n",
       "      <td>2012-02-22 00:00:00</td>\n",
       "      <td>48</td>\n",
       "      <td>Balanced</td>\n",
       "      <td>30.448598</td>\n",
       "      <td>Little</td>\n",
       "      <td>51</td>\n",
       "      <td>Mixed</td>\n",
       "      <td>...</td>\n",
       "      <td>Organised</td>\n",
       "      <td>46</td>\n",
       "      <td>Medium</td>\n",
       "      <td>48</td>\n",
       "      <td>Press</td>\n",
       "      <td>50</td>\n",
       "      <td>Normal</td>\n",
       "      <td>Cover</td>\n",
       "      <td>1601</td>\n",
       "      <td>15</td>\n",
       "    </tr>\n",
       "  </tbody>\n",
       "</table>\n",
       "<p>5 rows × 27 columns</p>\n",
       "</div>"
      ],
      "text/plain": [
       "    team_long_name team_short_name      t_attr_start_dt        t_attr_end_dt  \\\n",
       "3     Ruch Chorzów             CHO  2015-09-10 00:00:00  2016-05-25 00:00:00   \n",
       "28    Ruch Chorzów             CHO  2014-09-19 00:00:00  2015-09-10 00:00:00   \n",
       "53    Ruch Chorzów             CHO  2013-09-20 00:00:00  2014-09-19 00:00:00   \n",
       "83    Ruch Chorzów             CHO  2012-02-22 00:00:00  2013-09-20 00:00:00   \n",
       "134   Ruch Chorzów             CHO  2011-02-22 00:00:00  2012-02-22 00:00:00   \n",
       "\n",
       "     bu_play_speed bu_play_speed_class  bu_play_dribbling  \\\n",
       "3               47            Balanced          48.000000   \n",
       "28              53            Balanced          48.000000   \n",
       "53              53            Balanced          30.448598   \n",
       "83              53            Balanced          30.448598   \n",
       "134             48            Balanced          30.448598   \n",
       "\n",
       "    bu_play_dribbling_class  bu_play_passing bu_play_passing_class  \\\n",
       "3                    Normal               38                 Mixed   \n",
       "28                   Normal               38                 Mixed   \n",
       "53                   Little               55                 Mixed   \n",
       "83                   Little               55                 Mixed   \n",
       "134                  Little               51                 Mixed   \n",
       "\n",
       "              ...            cc_positioning_class  defence_pressure  \\\n",
       "3             ...                       Organised                43   \n",
       "28            ...                       Organised                43   \n",
       "53            ...                       Organised                43   \n",
       "83            ...                       Organised                43   \n",
       "134           ...                       Organised                46   \n",
       "\n",
       "    defence_pressure_class  defence_aggression defence_agression_class  \\\n",
       "3                   Medium                  44                   Press   \n",
       "28                  Medium                  44                   Press   \n",
       "53                  Medium                  44                   Press   \n",
       "83                  Medium                  44                   Press   \n",
       "134                 Medium                  48                   Press   \n",
       "\n",
       "     defence_team_width defence_team_width_class defence_line_class  \\\n",
       "3                    49                   Normal              Cover   \n",
       "28                   49                   Normal              Cover   \n",
       "53                   49                   Normal              Cover   \n",
       "83                   49                   Normal              Cover   \n",
       "134                  50                   Normal              Cover   \n",
       "\n",
       "     win_team_id wins_by_attribute_period  \n",
       "3           1601                        8  \n",
       "28          1601                       10  \n",
       "53          1601                       14  \n",
       "83          1601                       16  \n",
       "134         1601                       15  \n",
       "\n",
       "[5 rows x 27 columns]"
      ]
     },
     "execution_count": 44,
     "metadata": {},
     "output_type": "execute_result"
    }
   ],
   "source": [
    "df_win_team.head()"
   ]
  },
  {
   "cell_type": "code",
   "execution_count": 45,
   "metadata": {},
   "outputs": [
    {
     "data": {
      "image/png": "[encoded data removed]",
      "text/plain": [
       "<Figure size 864x720 with 12 Axes>"
      ]
     },
     "metadata": {
      "needs_background": "light"
     },
     "output_type": "display_data"
    }
   ],
   "source": [
    "df_win_team.hist(figsize=(12,10));"
   ]
  },
  {
   "cell_type": "markdown",
   "metadata": {},
   "source": [
    "#### Scatterplot of wins against various features"
   ]
  },
  {
   "cell_type": "code",
   "execution_count": 56,
   "metadata": {},
   "outputs": [
    {
     "data": {
      "text/plain": [
       "Text(0, 0.5, 'Team Wins')"
      ]
     },
     "execution_count": 56,
     "metadata": {},
     "output_type": "execute_result"
    },
    {
     "data": {
      "image/png": "[encoded data removed]",
      "text/plain": [
       "<Figure size 432x288 with 1 Axes>"
      ]
     },
     "metadata": {
      "needs_background": "light"
     },
     "output_type": "display_data"
    }
   ],
   "source": [
    "df_win_team.plot(x=\"bu_play_dribbling\", y=\"wins_by_attribute_period\", kind=\"scatter\");\n",
    "plt.title(\"Team Match Wins vs. Build Up Play Dribbling\")\n",
    "plt.xlabel(\"Build Up Play Dribbling\")\n",
    "plt.ylabel(\"Team Wins\")"
   ]
  },
  {
   "cell_type": "markdown",
   "metadata": {},
   "source": [
    "There is no correlation between the number of wins and **build up play dribbling**"
   ]
  },
  {
   "cell_type": "code",
   "execution_count": 57,
   "metadata": {},
   "outputs": [
    {
     "data": {
      "text/plain": [
       "Text(0, 0.5, 'Team Wins')"
      ]
     },
     "execution_count": 57,
     "metadata": {},
     "output_type": "execute_result"
    },
    {
     "data": {
      "image/png": "[encoded data removed]",
      "text/plain": [
       "<Figure size 432x288 with 1 Axes>"
      ]
     },
     "metadata": {
      "needs_background": "light"
     },
     "output_type": "display_data"
    }
   ],
   "source": [
    "df_win_team.plot(x=\"bu_play_passing\", y=\"wins_by_attribute_period\", kind=\"scatter\");\n",
    "plt.title(\"Team Match Wins vs. Build Up Play Passing\")\n",
    "plt.xlabel(\"Build Up Play Passing\")\n",
    "plt.ylabel(\"Team Wins\")"
   ]
  },
  {
   "cell_type": "markdown",
   "metadata": {},
   "source": [
    "There is no correlation between wins and **build up play passing**"
   ]
  },
  {
   "cell_type": "code",
   "execution_count": 58,
   "metadata": {},
   "outputs": [
    {
     "data": {
      "text/plain": [
       "Text(0, 0.5, 'Team Wins')"
      ]
     },
     "execution_count": 58,
     "metadata": {},
     "output_type": "execute_result"
    },
    {
     "data": {
      "image/png": "[encoded data removed]",
      "text/plain": [
       "<Figure size 432x288 with 1 Axes>"
      ]
     },
     "metadata": {
      "needs_background": "light"
     },
     "output_type": "display_data"
    }
   ],
   "source": [
    "df_win_team.plot(x=\"cc_passing\", y=\"wins_by_attribute_period\", kind=\"scatter\");\n",
    "plt.title(\"Team Match Wins vs. Chance Creation Passing\")\n",
    "plt.xlabel(\"Chance Creation Passing\")\n",
    "plt.ylabel(\"Team Wins\")"
   ]
  },
  {
   "cell_type": "markdown",
   "metadata": {},
   "source": [
    "There is no correlation between the number of wins and **chance creation passing**"
   ]
  },
  {
   "cell_type": "code",
   "execution_count": 59,
   "metadata": {},
   "outputs": [
    {
     "data": {
      "text/plain": [
       "Text(0, 0.5, 'Team Wins')"
      ]
     },
     "execution_count": 59,
     "metadata": {},
     "output_type": "execute_result"
    },
    {
     "data": {
      "image/png": "[encoded data removed]",
      "text/plain": [
       "<Figure size 432x288 with 1 Axes>"
      ]
     },
     "metadata": {
      "needs_background": "light"
     },
     "output_type": "display_data"
    }
   ],
   "source": [
    "df_win_team.plot(x=\"cc_crossing\", y=\"wins_by_attribute_period\", kind=\"scatter\");\n",
    "plt.title(\"Team Match Wins vs. Chance Creation Crossing\")\n",
    "plt.xlabel(\"Chance Creation Crossing\")\n",
    "plt.ylabel(\"Team Wins\")"
   ]
  },
  {
   "cell_type": "markdown",
   "metadata": {},
   "source": [
    "There is no correlation between the number of wins and **chance creation crossing**"
   ]
  },
  {
   "cell_type": "code",
   "execution_count": 60,
   "metadata": {},
   "outputs": [
    {
     "data": {
      "text/plain": [
       "Text(0, 0.5, 'Team Wins')"
      ]
     },
     "execution_count": 60,
     "metadata": {},
     "output_type": "execute_result"
    },
    {
     "data": {
      "image/png": "[encoded data removed]",
      "text/plain": [
       "<Figure size 432x288 with 1 Axes>"
      ]
     },
     "metadata": {
      "needs_background": "light"
     },
     "output_type": "display_data"
    }
   ],
   "source": [
    "df_win_team.plot(x=\"cc_shooting\", y=\"wins_by_attribute_period\", kind=\"scatter\");\n",
    "plt.title(\"Team Match Wins vs. Chance Creation Crossing\")\n",
    "plt.xlabel(\"Chance Creation Shooting\")\n",
    "plt.ylabel(\"Team Wins\")"
   ]
  },
  {
   "cell_type": "markdown",
   "metadata": {},
   "source": [
    "There is no correlation between the number of wins and **chance creation shooting**"
   ]
  },
  {
   "cell_type": "code",
   "execution_count": 61,
   "metadata": {},
   "outputs": [
    {
     "data": {
      "text/plain": [
       "Text(0, 0.5, 'Team Wins')"
      ]
     },
     "execution_count": 61,
     "metadata": {},
     "output_type": "execute_result"
    },
    {
     "data": {
      "image/png": "[encoded data removed]",
      "text/plain": [
       "<Figure size 432x288 with 1 Axes>"
      ]
     },
     "metadata": {
      "needs_background": "light"
     },
     "output_type": "display_data"
    }
   ],
   "source": [
    "df_win_team.plot(x=\"defence_pressure\", y=\"wins_by_attribute_period\", kind=\"scatter\");\n",
    "plt.title(\"Team Match Wins vs. Defence Pressure\")\n",
    "plt.xlabel(\"Defence Pressure\")\n",
    "plt.ylabel(\"Team Wins\")"
   ]
  },
  {
   "cell_type": "markdown",
   "metadata": {},
   "source": [
    "There is no correlation between the number of wins and **defence pressure**"
   ]
  },
  {
   "cell_type": "code",
   "execution_count": 62,
   "metadata": {},
   "outputs": [
    {
     "data": {
      "text/plain": [
       "Text(0, 0.5, 'Team Wins')"
      ]
     },
     "execution_count": 62,
     "metadata": {},
     "output_type": "execute_result"
    },
    {
     "data": {
      "image/png": "[encoded data removed]",
      "text/plain": [
       "<Figure size 432x288 with 1 Axes>"
      ]
     },
     "metadata": {
      "needs_background": "light"
     },
     "output_type": "display_data"
    }
   ],
   "source": [
    "df_win_team.plot(x=\"defence_aggression\", y=\"wins_by_attribute_period\", kind=\"scatter\");\n",
    "plt.title(\"Team Match Wins vs. Defence Aggression\")\n",
    "plt.xlabel(\"Defence Aggression\")\n",
    "plt.ylabel(\"Team Wins\")"
   ]
  },
  {
   "cell_type": "markdown",
   "metadata": {},
   "source": [
    "There is no correlation between the number of wins and **defence agression**"
   ]
  },
  {
   "cell_type": "code",
   "execution_count": 63,
   "metadata": {},
   "outputs": [
    {
     "data": {
      "text/plain": [
       "Text(0, 0.5, 'Team Wins')"
      ]
     },
     "execution_count": 63,
     "metadata": {},
     "output_type": "execute_result"
    },
    {
     "data": {
      "image/png": "[encoded data removed]",
      "text/plain": [
       "<Figure size 432x288 with 1 Axes>"
      ]
     },
     "metadata": {
      "needs_background": "light"
     },
     "output_type": "display_data"
    }
   ],
   "source": [
    "df_win_team.plot(x=\"defence_team_width\", y=\"wins_by_attribute_period\", kind=\"scatter\");\n",
    "plt.title(\"Team Match Wins vs. Defence Team Width\")\n",
    "plt.xlabel(\"Defence Team Width\")\n",
    "plt.ylabel(\"Team Wins\")"
   ]
  },
  {
   "cell_type": "markdown",
   "metadata": {},
   "source": [
    "There is no correlation between the number of wins and **defence team width**"
   ]
  },
  {
   "cell_type": "markdown",
   "metadata": {},
   "source": [
    "<a id='conclusions'></a>\n",
    "## Conclusions\n",
    "\n",
    "There are no Team attributes that have an effect on the number of wins a team has."
   ]
  },
  {
   "cell_type": "code",
   "execution_count": 54,
   "metadata": {},
   "outputs": [
    {
     "data": {
      "text/plain": [
       "0"
      ]
     },
     "execution_count": 54,
     "metadata": {},
     "output_type": "execute_result"
    }
   ],
   "source": [
    "from subprocess import call\n",
    "call(['python', '-m', 'nbconvert', 'Investigate_Soccer_Database.ipynb'])"
   ]
  }
 ],
 "metadata": {
  "kernelspec": {
   "display_name": "Python 3",
   "language": "python",
   "name": "python3"
  },
  "language_info": {
   "codemirror_mode": {
    "name": "ipython",
    "version": 3
   },
   "file_extension": ".py",
   "mimetype": "text/x-python",
   "name": "python",
   "nbconvert_exporter": "python",
   "pygments_lexer": "ipython3",
   "version": "3.7.1"
  }
 },
 "nbformat": 4,
 "nbformat_minor": 2
}
